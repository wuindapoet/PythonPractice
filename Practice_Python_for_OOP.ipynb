{
  "nbformat": 4,
  "nbformat_minor": 0,
  "metadata": {
    "colab": {
      "provenance": []
    },
    "kernelspec": {
      "name": "python3",
      "display_name": "Python 3"
    },
    "language_info": {
      "name": "python"
    }
  },
  "cells": [
    {
      "cell_type": "markdown",
      "source": [
        "# Practice Python for OOP"
      ],
      "metadata": {
        "id": "dKkYfvRjoGaD"
      }
    },
    {
      "cell_type": "markdown",
      "source": [
        "# 1. DEFINE CLASSES:"
      ],
      "metadata": {
        "id": "bCKFMqvaU7VM"
      }
    },
    {
      "cell_type": "markdown",
      "source": [
        "### Ex1: Create a simple class\n",
        "1. **Create a `Person` class:**\n",
        "\n",
        "- Define a class named `Person`.\n",
        "\n",
        "- This class should have two attributes: name and age.\n",
        "\n",
        "2. **Create the `introduce` method:**\n",
        "\n",
        "- Create a method called `introduce`.\n",
        "\n",
        "- This method should print a short self-introduction of the object, including its name and age."
      ],
      "metadata": {
        "id": "nVMT-EtaocOA"
      }
    },
    {
      "cell_type": "code",
      "source": [
        "class Person:\n",
        "    def __init__(self, name=str, age=int):\n",
        "        self.name = name\n",
        "        self.age = age\n",
        "    def __str__(self):\n",
        "      return f\"Name: {self.name} - Age: {self.age} years old.\"\n",
        "    def introduce(self):\n",
        "      return f\"Hello everyone! My name is {self.name} and I'm {self.age} years old.\"\n",
        "\n",
        "# test\n",
        "user = Person('Xuan Quynh', 19)\n",
        "user.introduce()\n"
      ],
      "metadata": {
        "id": "nTCj4KkJoFdR",
        "colab": {
          "base_uri": "https://localhost:8080/"
        },
        "outputId": "1eb5fe0b-25bb-4b2a-ac0f-c01f3be053f9"
      },
      "execution_count": null,
      "outputs": [
        {
          "output_type": "execute_result",
          "data": {
            "text/plain": [
              "\"Hello everyone! My name is Xuan Quynh and I'm 19 years old.\""
            ],
            "application/vnd.google.colaboratory.intrinsic+json": {
              "type": "string"
            }
          },
          "metadata": {},
          "execution_count": 24
        }
      ]
    },
    {
      "cell_type": "markdown",
      "source": [
        "### Ex2: Create another simple class:\n",
        "\n",
        "1. **Create an `Animal` class:**\n",
        "- Create a class called `Animal`.\n",
        "- This class should have two attributes: species and age.\n",
        "\n",
        "2. **Write a `describe` method:**\n",
        "- Create a method called `describe`.\n",
        "- This method should print a description of the object (animal), including its species and age."
      ],
      "metadata": {
        "id": "WxInUn8lSKe_"
      }
    },
    {
      "cell_type": "code",
      "execution_count": null,
      "metadata": {
        "id": "8n3DxmPIn7Nk",
        "colab": {
          "base_uri": "https://localhost:8080/"
        },
        "outputId": "5a398f89-9522-472e-b919-b7ecc4240e5a"
      },
      "outputs": [
        {
          "output_type": "execute_result",
          "data": {
            "text/plain": [
              "\"This is a cat and it's 2 years old!\""
            ],
            "application/vnd.google.colaboratory.intrinsic+json": {
              "type": "string"
            }
          },
          "metadata": {},
          "execution_count": 25
        }
      ],
      "source": [
        "class Animal:\n",
        "  def __init__(self, species=str, age=int):\n",
        "    self.species = species\n",
        "    self.age = age\n",
        "\n",
        "  def describe(self):\n",
        "    return f\"This is a {self.species} and it's {self.age} years old!\"\n",
        "\n",
        "# test\n",
        "cat = Animal(\"cat\", 2)\n",
        "cat.describe()"
      ]
    },
    {
      "cell_type": "markdown",
      "source": [
        "# 2. INHERITANCE:"
      ],
      "metadata": {
        "id": "QzlWRDuCUySN"
      }
    },
    {
      "cell_type": "markdown",
      "source": [
        "### Ex3: Basic\n",
        "\n",
        "1. **Create a subclass `Student`:**\n",
        "- Create a subclass named Student that inherits from the Person class.\n",
        "\n",
        "2. **Add the `student_id` attribute and override the `introduce` method:**\n",
        "- Add a new attribute called `student_id`.\n",
        "- **Override** the introduce method to include the student ID in the introduction."
      ],
      "metadata": {
        "id": "nsmcEErdUyVj"
      }
    },
    {
      "cell_type": "code",
      "source": [
        "class Student(Person):\n",
        "  def __init__(self, name, age, student_id):\n",
        "    super().__init__(name, age)   # super() helps reuse parent class method(s) within child class.\n",
        "    self.student_id = student_id\n",
        "\n",
        "  def introduce(self):\n",
        "    return super().introduce() + f\" And my student ID is {self.student_id}.\"\n",
        "\n",
        "# test\n",
        "student1 = Student(\"Calista\", 19, 24521514)\n",
        "student1.introduce()"
      ],
      "metadata": {
        "colab": {
          "base_uri": "https://localhost:8080/"
        },
        "id": "hsA9xvkOWZ-6",
        "outputId": "0dcc04eb-189e-4188-fe4b-ce97facfd0a2"
      },
      "execution_count": null,
      "outputs": [
        {
          "output_type": "execute_result",
          "data": {
            "text/plain": [
              "\"Hello everyone! My name is Calista and I'm 19 years old. And my student ID is 24521514.\""
            ],
            "application/vnd.google.colaboratory.intrinsic+json": {
              "type": "string"
            }
          },
          "metadata": {},
          "execution_count": 26
        }
      ]
    },
    {
      "cell_type": "markdown",
      "source": [
        "### Ex4: Advanced\n",
        "- Create a subclass called `GraduteStudent` that inherits from `Student` class with `thesis_title` attribute.\n",
        "- **Override** the `introduce` method in `GraduateStudent` to include the thesis title.\n",
        "- Create a list of `Student`, `Person`, and `GraduateStudent` objects; then calls the `introduce` method of each object in that list."
      ],
      "metadata": {
        "id": "xRVLWFe0X0cx"
      }
    },
    {
      "cell_type": "code",
      "source": [
        "class GraduateStudent(Student):\n",
        "  def __init__(self, name, age, student_id, thesis_title):\n",
        "    super().__init__(name, age, student_id)\n",
        "    self.thesis_title = thesis_title\n",
        "\n",
        "  def introduce(self):\n",
        "    return super().introduce() + f\" My thesis title is {self.thesis_title}.\"\n",
        "\n",
        "idk = [\n",
        "    Person(\"Xuan Quynh\", 19),\n",
        "    Student(\"Calista\", 19, 24521514),\n",
        "    GraduateStudent(\"Vo Thi Xuan Quynh\", 21, 24521514, \"'Federated Learning: Heart Attack detection with EGC dataset'\")\n",
        "]\n",
        "\n",
        "for _ in idk:\n",
        "  print(_.introduce())"
      ],
      "metadata": {
        "colab": {
          "base_uri": "https://localhost:8080/"
        },
        "id": "3cMKSHfCX1HX",
        "outputId": "9296e1a2-882c-4632-8ab0-422b1838b7a8"
      },
      "execution_count": null,
      "outputs": [
        {
          "output_type": "stream",
          "name": "stdout",
          "text": [
            "Hello everyone! My name is Xuan Quynh and I'm 19 years old.\n",
            "Hello everyone! My name is Calista and I'm 19 years old. And my student ID is 24521514.\n",
            "Hello everyone! My name is Vo Thi Xuan Quynh and I'm 21 years old. And my student ID is 24521514. My thesis title is 'Federated Learning: Heart Attack detection with EGC dataset'.\n"
          ]
        }
      ]
    },
    {
      "cell_type": "markdown",
      "source": [
        "# 3. POLYMORPHISM:"
      ],
      "metadata": {
        "id": "_lPDnP6kaz-v"
      }
    },
    {
      "cell_type": "markdown",
      "source": [
        "### Ex5: Basic\n",
        "\n",
        "**Create a function using Polymorphism**\n",
        "- Create a function that takes a list of `Person` objects.\n",
        "- This function should call the `introduce` method of each object."
      ],
      "metadata": {
        "id": "KyqU6tr2a4yw"
      }
    },
    {
      "cell_type": "code",
      "source": [
        "def introduction(arr):\n",
        "  for _ in arr:\n",
        "    print(_.introduce())\n",
        "\n",
        "introduction(idk)     # use the 'idk' list in Ex4"
      ],
      "metadata": {
        "colab": {
          "base_uri": "https://localhost:8080/"
        },
        "id": "HraMejWcbtqX",
        "outputId": "3d37ea68-b1aa-4e30-cfa5-8208df9dc8c7"
      },
      "execution_count": null,
      "outputs": [
        {
          "output_type": "stream",
          "name": "stdout",
          "text": [
            "Hello everyone! My name is Xuan Quynh and I'm 19 years old.\n",
            "Hello everyone! My name is Calista and I'm 19 years old. And my student ID is 24521514.\n",
            "Hello everyone! My name is Vo Thi Xuan Quynh and I'm 21 years old. And my student ID is 24521514. My thesis title is 'Federated Learning: Heart Attack detection with EGC dataset'.\n"
          ]
        }
      ]
    },
    {
      "cell_type": "markdown",
      "source": [
        "### Ex6: Advanced\n",
        "\n",
        "- Create a subclass called `Teacher` that inherits from `Person` class, with the `subject` atrribute.\n",
        "- **Override** the `introduce` method in `Teacher` class to include their subject.\n",
        "- Create a function that takes a list of `Person` & `Teacher`, then calls the `introduce` method of each object in that list."
      ],
      "metadata": {
        "id": "surpetwLcO_S"
      }
    },
    {
      "cell_type": "code",
      "source": [
        "class Teacher(Person):\n",
        "  def __init__(self, name=str, age=int, subject=str):\n",
        "    super().__init__(name, age)\n",
        "    self.subject = subject\n",
        "\n",
        "  def introduce(self):\n",
        "    return super().introduce() + f\" My subject is {self.subject}.\"\n",
        "\n",
        "def introduction(arr):\n",
        "  for _ in arr:\n",
        "    print(_.introduce())\n",
        "\n",
        "# test\n",
        "small_community = [\n",
        "    Person(\"Xuan Quynh\", 19),\n",
        "    Teacher(\"Josh\", 31, \"English for IELTS\")\n",
        "]\n",
        "\n",
        "introduction(small_community)"
      ],
      "metadata": {
        "colab": {
          "base_uri": "https://localhost:8080/"
        },
        "id": "cgFeyF-adUKz",
        "outputId": "69d5ba30-9e79-4c07-d3c7-167166571bcc"
      },
      "execution_count": null,
      "outputs": [
        {
          "output_type": "stream",
          "name": "stdout",
          "text": [
            "Hello everyone! My name is Xuan Quynh and I'm 19 years old.\n",
            "Hello everyone! My name is Josh and I'm 31 years old. My subject is English for IELTS.\n"
          ]
        }
      ]
    },
    {
      "cell_type": "markdown",
      "source": [
        "# 4. ENCAPSULATION:"
      ],
      "metadata": {
        "id": "-8xP9ZpbeKdS"
      }
    },
    {
      "cell_type": "markdown",
      "source": [
        "### Ex7: Basic\n",
        "\n",
        "1. **Create a private method called `_password` into `Person` class.**\n",
        "2. **Create getter & setter method:**\n",
        "- Create a getter method to access the value of the `_password` attribute.\n",
        "- Create a setter method to adjust the value of the `_password` attribute."
      ],
      "metadata": {
        "id": "4-Z3zhdPeL5l"
      }
    },
    {
      "cell_type": "code",
      "source": [
        "class Person:\n",
        "  def __init__(self, name=str, age=int, password=str):\n",
        "    self.name = name\n",
        "    self.age = age\n",
        "    self._password = password\n",
        "\n",
        "  def __str__(self):\n",
        "    return f\"Name: {self.name} - Age: {self.age}\"\n",
        "\n",
        "  # First way:\n",
        "  def get_password(self):       # getter\n",
        "    return self._password\n",
        "  def set_password(self, new):  # setter\n",
        "    self._password = new\n",
        "\n",
        "  # Second way:\n",
        "  @property                     # defines a method to access like an attribute without using ()\n",
        "  def password(self):           # getter\n",
        "    return self._password\n",
        "\n",
        "  @password.setter              # @<property>.setter makes the property writable\n",
        "  def password(self, new):      # setter\n",
        "    self._password = new\n",
        "\n",
        "# test\n",
        "user = Person(\"Xuan Quynh\", 19, \"test\")"
      ],
      "metadata": {
        "id": "8qEy8Nlj2zlj"
      },
      "execution_count": null,
      "outputs": []
    },
    {
      "cell_type": "code",
      "source": [
        "# Fist way\n",
        "user.set_password(\"bunchahanoi\")\n",
        "user.get_password()"
      ],
      "metadata": {
        "colab": {
          "base_uri": "https://localhost:8080/"
        },
        "id": "v0d8NtSK71Dd",
        "outputId": "554f76c5-1555-4ad8-a008-f50445bc0936"
      },
      "execution_count": null,
      "outputs": [
        {
          "output_type": "execute_result",
          "data": {
            "text/plain": [
              "'bunchahanoi'"
            ],
            "application/vnd.google.colaboratory.intrinsic+json": {
              "type": "string"
            }
          },
          "metadata": {},
          "execution_count": 31
        }
      ]
    },
    {
      "cell_type": "code",
      "source": [
        "# Second way:\n",
        "user.password = \"bundaumamtom\"\n",
        "user.password"
      ],
      "metadata": {
        "colab": {
          "base_uri": "https://localhost:8080/"
        },
        "id": "HvxLc92C76u0",
        "outputId": "140f80f8-8b5f-4d77-8f38-3c759c8eda3d"
      },
      "execution_count": null,
      "outputs": [
        {
          "output_type": "execute_result",
          "data": {
            "text/plain": [
              "'bundaumamtom'"
            ],
            "application/vnd.google.colaboratory.intrinsic+json": {
              "type": "string"
            }
          },
          "metadata": {},
          "execution_count": 32
        }
      ]
    },
    {
      "cell_type": "markdown",
      "source": [
        "### Ex8: Advance\n",
        "\n",
        "- Create a `validate_password` method to check the validity of a new password before changing it. A valid password must have at least 8 characters and include both letters and numbers.\n",
        "- **Override** `__str__` method so that the `_password` attribute isn't displayed while printing the `Person` object."
      ],
      "metadata": {
        "id": "lfilBwFqtjSc"
      }
    },
    {
      "cell_type": "code",
      "source": [
        "class Person:\n",
        "  def __init__(self, name=str, age=int, password=str):\n",
        "    self.name = name\n",
        "    self.age = age\n",
        "    self._password = password\n",
        "\n",
        "  def get_password(self):       # getter\n",
        "    return self._password\n",
        "  def set_password(self, new):  # setter\n",
        "    if self.validate_password(new):\n",
        "      self._password = new\n",
        "      print(\"Password changed successfully!\")\n",
        "    else:\n",
        "      print(\"Invalid password! Try again.\")\n",
        "\n",
        "  def validate_password(self, new):\n",
        "    if len(new) < 8:\n",
        "      return False\n",
        "    if not any(char.isdigit() for char in new):\n",
        "      return False\n",
        "    if not any(char.isalpha() for char in new):\n",
        "      return False\n",
        "    return True\n",
        "\n",
        "  def __str__(self):\n",
        "    return f\"Name: {self.name} - Age: {self.age}\"\n",
        "\n",
        "# test\n",
        "user = Person(\"Xuan Quynh\", 19, \"bunchahanoi\")\n",
        "user.set_password(\"bunchahanoi\")\n",
        "\n",
        "user.set_password(\"Abc@1234\")"
      ],
      "metadata": {
        "colab": {
          "base_uri": "https://localhost:8080/"
        },
        "id": "pFZ_7AjG20vg",
        "outputId": "bae26fd3-6135-47ed-9cef-c7cd2096dd74"
      },
      "execution_count": null,
      "outputs": [
        {
          "output_type": "stream",
          "name": "stdout",
          "text": [
            "Invalid password! Try again.\n",
            "Password changed successfully!\n"
          ]
        }
      ]
    },
    {
      "cell_type": "markdown",
      "source": [
        "# 5. ABSTRACTION:\n",
        "##### Hiding complex implementation details and showing only the essential features of an object."
      ],
      "metadata": {
        "id": "-mE3_L-ktvQX"
      }
    },
    {
      "cell_type": "markdown",
      "source": [
        "### Ex9: Basic\n",
        "\n",
        "1. **Create an abstract class called `Shape`:**\n",
        "- Create an abstract class named `Shape`.\n",
        "- This class should have an abstract method `area` to calculate the area.\n",
        "\n",
        "2. **Create 2 subclasses called `Circle` and `Rectangle`:**\n",
        "- Create a class `Circle` that inherits from `Shape` class with an `radius` attribute.\n",
        "- Override the `area` method in the `Circle` class to calculate the area of a circle.\n",
        "- Create a class `Rectangle` that inherits from `Shape` class with `width` and `height` attributes.\n",
        "- **Override** the `area` method in the `Rectangle` class to calculate the area of a rectangle.\n",
        "\n",
        "3. **Create a function to calculate total area:**\n",
        "- Create a function that takes a list of `Shape` objects and returns the total area of all shapes in the list.\n"
      ],
      "metadata": {
        "id": "qTu_ukwzty7P"
      }
    },
    {
      "cell_type": "code",
      "source": [
        "from abc import ABC, abstractmethod\n",
        "\n",
        "class Shape(ABC):\n",
        "  @abstractmethod\n",
        "  def area(self):\n",
        "    pass\n",
        "\n",
        "class Circle(Shape):\n",
        "  def __init__(self, radius):\n",
        "    self.radius = radius\n",
        "\n",
        "  def area(self):\n",
        "    return 3.14*(self.radius)**2\n",
        "\n",
        "class Rectangle(Shape):\n",
        "  def __init__(self, width, height):\n",
        "    self.width = width\n",
        "    self.height = height\n",
        "\n",
        "  def area(self):\n",
        "    return self.width*self.height\n",
        "\n",
        "def total_area(arr):\n",
        "  total = 0\n",
        "  for _ in arr:\n",
        "    total += _.area()\n",
        "  return total\n",
        "\n",
        "# test\n",
        "shapes =[\n",
        "    Rectangle(10, 20),\n",
        "    Circle(5),\n",
        "    Rectangle(15, 10)\n",
        "]\n",
        "\n",
        "print(total_area(shapes))  # should be 428.5"
      ],
      "metadata": {
        "colab": {
          "base_uri": "https://localhost:8080/"
        },
        "id": "izOBrxbI21r0",
        "outputId": "a2c95f6f-a887-441b-f776-187f183ca115"
      },
      "execution_count": null,
      "outputs": [
        {
          "output_type": "stream",
          "name": "stdout",
          "text": [
            "428.5\n"
          ]
        }
      ]
    },
    {
      "cell_type": "markdown",
      "source": [
        "### Ex10: Advanced\n",
        "\n",
        "1. **Create a subclass `Triangle`:**\n",
        "- Create a class `Triangle` that inherits from the `Shape` class with attributes `base` and `height`.\n",
        "- **Override** the `area` method in the `Triangle` class to calculate the area of a triangle.\n",
        "\n",
        "2. **Create a subclass `Square`:**\n",
        "- Create a class `Square` that inherits from the `Shape` class with the `side` attribute.\n",
        "- **Override** the `area` method in the `Square` class to calculate the area of a square.\n",
        "\n",
        "3. **Create an advanced total area function:**\n",
        "- Create a function that takes a list of `Shape` objects (including `Circle`, `Rectangle`, `Triangle`, and `Square`) and returns the total area of all shapes in the list.\n"
      ],
      "metadata": {
        "id": "Cj1L7rSit3v1"
      }
    },
    {
      "cell_type": "code",
      "source": [
        "class Triangle(Shape):\n",
        "  def __init__(self, base, height):\n",
        "    self.base = base\n",
        "    self.height = height\n",
        "\n",
        "  def area(self):\n",
        "    return (self.base * self.height)*0.5\n",
        "\n",
        "class Square(Shape):\n",
        "  def __init__(self, side):\n",
        "    self.side = side\n",
        "\n",
        "  def area(self):\n",
        "    return self.side**2\n",
        "\n",
        "def total_area(arr):\n",
        "  total = 0\n",
        "  for _ in arr:\n",
        "    total += _.area()\n",
        "  return total\n",
        "\n",
        "# test\n",
        "shapes =[\n",
        "    Rectangle(10, 20),\n",
        "    Circle(5),\n",
        "    Triangle(15, 10),\n",
        "    Square(5)\n",
        "]\n",
        "\n",
        "print(total_area(shapes))"
      ],
      "metadata": {
        "colab": {
          "base_uri": "https://localhost:8080/"
        },
        "id": "aNZM1k8S22gY",
        "outputId": "88145c61-f21c-4a25-8ef2-b0ef5a15954e"
      },
      "execution_count": null,
      "outputs": [
        {
          "output_type": "stream",
          "name": "stdout",
          "text": [
            "378.5\n"
          ]
        }
      ]
    },
    {
      "cell_type": "markdown",
      "source": [
        "# FINAL EXERCISE"
      ],
      "metadata": {
        "id": "42qsQK6Vt6Vk"
      }
    },
    {
      "cell_type": "markdown",
      "source": [
        "1. **Create an abstract class `Employee`:**\n",
        "- Create an abstract class named `Employee`.\n",
        "- This class should have the attributes: `name` and `salary`.\n",
        "- It should include an abstract method `calculate_bonus` to compute the employee’s bonus.\n",
        "\n",
        "2. **Create subclasses `Manager` and `Developer`:**\n",
        "- Create a class `Manager` that inherits from `Employee` with an additional attribute `department`.\n",
        "- Override the `calculate_bonus` method in the `Manager` class to calculate the bonus based on salary and a fixed multiplier.\n",
        "- Create a class `Developer` that inherits from `Employee` with an attribute `programming_language`.\n",
        "- Override the `calculate_bonus` method in the `Developer` class to calculate the bonus based on salary and a fixed multiplier.\n",
        "\n",
        "3. **Encapsulation:**\n",
        "- Add a private attribute `_bonus` to the `Employee` class.\n",
        "- Write getter and setter methods to access and adjust the `_bonus` attribute.\n",
        "\n",
        "4. **Polymorphism:**\n",
        "- Write a function that takes a list of `Employee` objects and calls the `calculate_bonus` method of each object in the list.\n",
        "- The function should return the total bonus amount of all employees in the list."
      ],
      "metadata": {
        "id": "WjAUtLld0RrK"
      }
    },
    {
      "cell_type": "code",
      "source": [
        "from abc import ABC, abstractmethod\n",
        "\n",
        "class Employee(ABC):\n",
        "  def __init__(self, name=str, salary=float):\n",
        "    self.name = name\n",
        "    self.salary = salary\n",
        "    self._bonus = 0\n",
        "\n",
        "  @abstractmethod\n",
        "  def calculate_bonus(self, multiplier):\n",
        "    pass\n",
        "\n",
        "  def get_bonus(self):\n",
        "    return self._bonus\n",
        "\n",
        "  def set_bonus(self, new):\n",
        "    self._bonus = new\n",
        "\n",
        "class Manager(Employee):\n",
        "  def __init__(self, name, salary, department=str):\n",
        "    super().__init__(name, salary)\n",
        "    self.department = department\n",
        "\n",
        "  def calculate_bonus(self):\n",
        "    return self.salary*0.5\n",
        "\n",
        "class Developer(Employee):\n",
        "  def __init__(self, name, salary, programming_language=str):\n",
        "    super().__init__(name, salary)\n",
        "    self.programming_language = programming_language\n",
        "\n",
        "  def calculate_bonus(self):\n",
        "    return self.salary*0.1\n",
        "\n",
        "def total_bonus(arr):\n",
        "  total = 0\n",
        "  for _ in arr:\n",
        "    total += _.calculate_bonus()\n",
        "  return total\n",
        "\n",
        "# test\n",
        "capital_slaves = [\n",
        "    Developer(\"Calista\", 10000, \"Python\"),\n",
        "    Manager(\"Vo Thi Xuan Quynh\", 2000000, \"Finance\")\n",
        "]\n",
        "\n",
        "print(total_bonus(capital_slaves))"
      ],
      "metadata": {
        "colab": {
          "base_uri": "https://localhost:8080/"
        },
        "id": "ZUy6MFc9dnRx",
        "outputId": "aebd2d3c-d22b-4b3f-9558-4dce33a577d1"
      },
      "execution_count": null,
      "outputs": [
        {
          "output_type": "stream",
          "name": "stdout",
          "text": [
            "1001000.0\n"
          ]
        }
      ]
    }
  ]
}