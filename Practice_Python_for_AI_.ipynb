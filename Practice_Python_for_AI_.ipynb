{
  "cells": [
    {
      "cell_type": "markdown",
      "metadata": {
        "id": "QbLAjqFYX8Sl"
      },
      "source": [
        "# Practice Python for AI  \n",
        "Including: Pandas-using using Penguin dataset; Visualization - Matplotlib & Seaborn; Numpy."
      ]
    },
    {
      "cell_type": "markdown",
      "metadata": {
        "id": "91cODg-bR6-Y"
      },
      "source": [
        "# PANDAS PRACTICE"
      ]
    },
    {
      "cell_type": "code",
      "execution_count": 42,
      "metadata": {
        "id": "1Z9tkfF5XK5n"
      },
      "outputs": [],
      "source": [
        "# Import necessary libraries\n",
        "import pandas as pd\n",
        "import numpy as np\n",
        "import matplotlib.pyplot as plt\n",
        "import seaborn as sns"
      ]
    },
    {
      "cell_type": "code",
      "execution_count": 43,
      "metadata": {
        "colab": {
          "base_uri": "https://localhost:8080/",
          "height": 423
        },
        "id": "DBHX7RzjYXXD",
        "outputId": "5515d34c-b271-491a-c09e-9281b413d46a"
      },
      "outputs": [
        {
          "output_type": "execute_result",
          "data": {
            "text/plain": [
              "    species     island  bill_length_mm  bill_depth_mm  flipper_length_mm  \\\n",
              "0    Adelie  Torgersen            39.1           18.7              181.0   \n",
              "1    Adelie  Torgersen            39.5           17.4              186.0   \n",
              "2    Adelie  Torgersen            40.3           18.0              195.0   \n",
              "3    Adelie  Torgersen             NaN            NaN                NaN   \n",
              "4    Adelie  Torgersen            36.7           19.3              193.0   \n",
              "..      ...        ...             ...            ...                ...   \n",
              "339  Gentoo     Biscoe             NaN            NaN                NaN   \n",
              "340  Gentoo     Biscoe            46.8           14.3              215.0   \n",
              "341  Gentoo     Biscoe            50.4           15.7              222.0   \n",
              "342  Gentoo     Biscoe            45.2           14.8              212.0   \n",
              "343  Gentoo     Biscoe            49.9           16.1              213.0   \n",
              "\n",
              "     body_mass_g     sex  \n",
              "0         3750.0    Male  \n",
              "1         3800.0  Female  \n",
              "2         3250.0  Female  \n",
              "3            NaN     NaN  \n",
              "4         3450.0  Female  \n",
              "..           ...     ...  \n",
              "339          NaN     NaN  \n",
              "340       4850.0  Female  \n",
              "341       5750.0    Male  \n",
              "342       5200.0  Female  \n",
              "343       5400.0    Male  \n",
              "\n",
              "[344 rows x 7 columns]"
            ],
            "text/html": [
              "\n",
              "  <div id=\"df-799765c8-097f-4173-b602-9b587b10d44d\" class=\"colab-df-container\">\n",
              "    <div>\n",
              "<style scoped>\n",
              "    .dataframe tbody tr th:only-of-type {\n",
              "        vertical-align: middle;\n",
              "    }\n",
              "\n",
              "    .dataframe tbody tr th {\n",
              "        vertical-align: top;\n",
              "    }\n",
              "\n",
              "    .dataframe thead th {\n",
              "        text-align: right;\n",
              "    }\n",
              "</style>\n",
              "<table border=\"1\" class=\"dataframe\">\n",
              "  <thead>\n",
              "    <tr style=\"text-align: right;\">\n",
              "      <th></th>\n",
              "      <th>species</th>\n",
              "      <th>island</th>\n",
              "      <th>bill_length_mm</th>\n",
              "      <th>bill_depth_mm</th>\n",
              "      <th>flipper_length_mm</th>\n",
              "      <th>body_mass_g</th>\n",
              "      <th>sex</th>\n",
              "    </tr>\n",
              "  </thead>\n",
              "  <tbody>\n",
              "    <tr>\n",
              "      <th>0</th>\n",
              "      <td>Adelie</td>\n",
              "      <td>Torgersen</td>\n",
              "      <td>39.1</td>\n",
              "      <td>18.7</td>\n",
              "      <td>181.0</td>\n",
              "      <td>3750.0</td>\n",
              "      <td>Male</td>\n",
              "    </tr>\n",
              "    <tr>\n",
              "      <th>1</th>\n",
              "      <td>Adelie</td>\n",
              "      <td>Torgersen</td>\n",
              "      <td>39.5</td>\n",
              "      <td>17.4</td>\n",
              "      <td>186.0</td>\n",
              "      <td>3800.0</td>\n",
              "      <td>Female</td>\n",
              "    </tr>\n",
              "    <tr>\n",
              "      <th>2</th>\n",
              "      <td>Adelie</td>\n",
              "      <td>Torgersen</td>\n",
              "      <td>40.3</td>\n",
              "      <td>18.0</td>\n",
              "      <td>195.0</td>\n",
              "      <td>3250.0</td>\n",
              "      <td>Female</td>\n",
              "    </tr>\n",
              "    <tr>\n",
              "      <th>3</th>\n",
              "      <td>Adelie</td>\n",
              "      <td>Torgersen</td>\n",
              "      <td>NaN</td>\n",
              "      <td>NaN</td>\n",
              "      <td>NaN</td>\n",
              "      <td>NaN</td>\n",
              "      <td>NaN</td>\n",
              "    </tr>\n",
              "    <tr>\n",
              "      <th>4</th>\n",
              "      <td>Adelie</td>\n",
              "      <td>Torgersen</td>\n",
              "      <td>36.7</td>\n",
              "      <td>19.3</td>\n",
              "      <td>193.0</td>\n",
              "      <td>3450.0</td>\n",
              "      <td>Female</td>\n",
              "    </tr>\n",
              "    <tr>\n",
              "      <th>...</th>\n",
              "      <td>...</td>\n",
              "      <td>...</td>\n",
              "      <td>...</td>\n",
              "      <td>...</td>\n",
              "      <td>...</td>\n",
              "      <td>...</td>\n",
              "      <td>...</td>\n",
              "    </tr>\n",
              "    <tr>\n",
              "      <th>339</th>\n",
              "      <td>Gentoo</td>\n",
              "      <td>Biscoe</td>\n",
              "      <td>NaN</td>\n",
              "      <td>NaN</td>\n",
              "      <td>NaN</td>\n",
              "      <td>NaN</td>\n",
              "      <td>NaN</td>\n",
              "    </tr>\n",
              "    <tr>\n",
              "      <th>340</th>\n",
              "      <td>Gentoo</td>\n",
              "      <td>Biscoe</td>\n",
              "      <td>46.8</td>\n",
              "      <td>14.3</td>\n",
              "      <td>215.0</td>\n",
              "      <td>4850.0</td>\n",
              "      <td>Female</td>\n",
              "    </tr>\n",
              "    <tr>\n",
              "      <th>341</th>\n",
              "      <td>Gentoo</td>\n",
              "      <td>Biscoe</td>\n",
              "      <td>50.4</td>\n",
              "      <td>15.7</td>\n",
              "      <td>222.0</td>\n",
              "      <td>5750.0</td>\n",
              "      <td>Male</td>\n",
              "    </tr>\n",
              "    <tr>\n",
              "      <th>342</th>\n",
              "      <td>Gentoo</td>\n",
              "      <td>Biscoe</td>\n",
              "      <td>45.2</td>\n",
              "      <td>14.8</td>\n",
              "      <td>212.0</td>\n",
              "      <td>5200.0</td>\n",
              "      <td>Female</td>\n",
              "    </tr>\n",
              "    <tr>\n",
              "      <th>343</th>\n",
              "      <td>Gentoo</td>\n",
              "      <td>Biscoe</td>\n",
              "      <td>49.9</td>\n",
              "      <td>16.1</td>\n",
              "      <td>213.0</td>\n",
              "      <td>5400.0</td>\n",
              "      <td>Male</td>\n",
              "    </tr>\n",
              "  </tbody>\n",
              "</table>\n",
              "<p>344 rows × 7 columns</p>\n",
              "</div>\n",
              "    <div class=\"colab-df-buttons\">\n",
              "\n",
              "  <div class=\"colab-df-container\">\n",
              "    <button class=\"colab-df-convert\" onclick=\"convertToInteractive('df-799765c8-097f-4173-b602-9b587b10d44d')\"\n",
              "            title=\"Convert this dataframe to an interactive table.\"\n",
              "            style=\"display:none;\">\n",
              "\n",
              "  <svg xmlns=\"http://www.w3.org/2000/svg\" height=\"24px\" viewBox=\"0 -960 960 960\">\n",
              "    <path d=\"M120-120v-720h720v720H120Zm60-500h600v-160H180v160Zm220 220h160v-160H400v160Zm0 220h160v-160H400v160ZM180-400h160v-160H180v160Zm440 0h160v-160H620v160ZM180-180h160v-160H180v160Zm440 0h160v-160H620v160Z\"/>\n",
              "  </svg>\n",
              "    </button>\n",
              "\n",
              "  <style>\n",
              "    .colab-df-container {\n",
              "      display:flex;\n",
              "      gap: 12px;\n",
              "    }\n",
              "\n",
              "    .colab-df-convert {\n",
              "      background-color: #E8F0FE;\n",
              "      border: none;\n",
              "      border-radius: 50%;\n",
              "      cursor: pointer;\n",
              "      display: none;\n",
              "      fill: #1967D2;\n",
              "      height: 32px;\n",
              "      padding: 0 0 0 0;\n",
              "      width: 32px;\n",
              "    }\n",
              "\n",
              "    .colab-df-convert:hover {\n",
              "      background-color: #E2EBFA;\n",
              "      box-shadow: 0px 1px 2px rgba(60, 64, 67, 0.3), 0px 1px 3px 1px rgba(60, 64, 67, 0.15);\n",
              "      fill: #174EA6;\n",
              "    }\n",
              "\n",
              "    .colab-df-buttons div {\n",
              "      margin-bottom: 4px;\n",
              "    }\n",
              "\n",
              "    [theme=dark] .colab-df-convert {\n",
              "      background-color: #3B4455;\n",
              "      fill: #D2E3FC;\n",
              "    }\n",
              "\n",
              "    [theme=dark] .colab-df-convert:hover {\n",
              "      background-color: #434B5C;\n",
              "      box-shadow: 0px 1px 3px 1px rgba(0, 0, 0, 0.15);\n",
              "      filter: drop-shadow(0px 1px 2px rgba(0, 0, 0, 0.3));\n",
              "      fill: #FFFFFF;\n",
              "    }\n",
              "  </style>\n",
              "\n",
              "    <script>\n",
              "      const buttonEl =\n",
              "        document.querySelector('#df-799765c8-097f-4173-b602-9b587b10d44d button.colab-df-convert');\n",
              "      buttonEl.style.display =\n",
              "        google.colab.kernel.accessAllowed ? 'block' : 'none';\n",
              "\n",
              "      async function convertToInteractive(key) {\n",
              "        const element = document.querySelector('#df-799765c8-097f-4173-b602-9b587b10d44d');\n",
              "        const dataTable =\n",
              "          await google.colab.kernel.invokeFunction('convertToInteractive',\n",
              "                                                    [key], {});\n",
              "        if (!dataTable) return;\n",
              "\n",
              "        const docLinkHtml = 'Like what you see? Visit the ' +\n",
              "          '<a target=\"_blank\" href=https://colab.research.google.com/notebooks/data_table.ipynb>data table notebook</a>'\n",
              "          + ' to learn more about interactive tables.';\n",
              "        element.innerHTML = '';\n",
              "        dataTable['output_type'] = 'display_data';\n",
              "        await google.colab.output.renderOutput(dataTable, element);\n",
              "        const docLink = document.createElement('div');\n",
              "        docLink.innerHTML = docLinkHtml;\n",
              "        element.appendChild(docLink);\n",
              "      }\n",
              "    </script>\n",
              "  </div>\n",
              "\n",
              "\n",
              "    <div id=\"df-00dc21d3-5c6d-47af-88e9-5ecf8dccc4d0\">\n",
              "      <button class=\"colab-df-quickchart\" onclick=\"quickchart('df-00dc21d3-5c6d-47af-88e9-5ecf8dccc4d0')\"\n",
              "                title=\"Suggest charts\"\n",
              "                style=\"display:none;\">\n",
              "\n",
              "<svg xmlns=\"http://www.w3.org/2000/svg\" height=\"24px\"viewBox=\"0 0 24 24\"\n",
              "     width=\"24px\">\n",
              "    <g>\n",
              "        <path d=\"M19 3H5c-1.1 0-2 .9-2 2v14c0 1.1.9 2 2 2h14c1.1 0 2-.9 2-2V5c0-1.1-.9-2-2-2zM9 17H7v-7h2v7zm4 0h-2V7h2v10zm4 0h-2v-4h2v4z\"/>\n",
              "    </g>\n",
              "</svg>\n",
              "      </button>\n",
              "\n",
              "<style>\n",
              "  .colab-df-quickchart {\n",
              "      --bg-color: #E8F0FE;\n",
              "      --fill-color: #1967D2;\n",
              "      --hover-bg-color: #E2EBFA;\n",
              "      --hover-fill-color: #174EA6;\n",
              "      --disabled-fill-color: #AAA;\n",
              "      --disabled-bg-color: #DDD;\n",
              "  }\n",
              "\n",
              "  [theme=dark] .colab-df-quickchart {\n",
              "      --bg-color: #3B4455;\n",
              "      --fill-color: #D2E3FC;\n",
              "      --hover-bg-color: #434B5C;\n",
              "      --hover-fill-color: #FFFFFF;\n",
              "      --disabled-bg-color: #3B4455;\n",
              "      --disabled-fill-color: #666;\n",
              "  }\n",
              "\n",
              "  .colab-df-quickchart {\n",
              "    background-color: var(--bg-color);\n",
              "    border: none;\n",
              "    border-radius: 50%;\n",
              "    cursor: pointer;\n",
              "    display: none;\n",
              "    fill: var(--fill-color);\n",
              "    height: 32px;\n",
              "    padding: 0;\n",
              "    width: 32px;\n",
              "  }\n",
              "\n",
              "  .colab-df-quickchart:hover {\n",
              "    background-color: var(--hover-bg-color);\n",
              "    box-shadow: 0 1px 2px rgba(60, 64, 67, 0.3), 0 1px 3px 1px rgba(60, 64, 67, 0.15);\n",
              "    fill: var(--button-hover-fill-color);\n",
              "  }\n",
              "\n",
              "  .colab-df-quickchart-complete:disabled,\n",
              "  .colab-df-quickchart-complete:disabled:hover {\n",
              "    background-color: var(--disabled-bg-color);\n",
              "    fill: var(--disabled-fill-color);\n",
              "    box-shadow: none;\n",
              "  }\n",
              "\n",
              "  .colab-df-spinner {\n",
              "    border: 2px solid var(--fill-color);\n",
              "    border-color: transparent;\n",
              "    border-bottom-color: var(--fill-color);\n",
              "    animation:\n",
              "      spin 1s steps(1) infinite;\n",
              "  }\n",
              "\n",
              "  @keyframes spin {\n",
              "    0% {\n",
              "      border-color: transparent;\n",
              "      border-bottom-color: var(--fill-color);\n",
              "      border-left-color: var(--fill-color);\n",
              "    }\n",
              "    20% {\n",
              "      border-color: transparent;\n",
              "      border-left-color: var(--fill-color);\n",
              "      border-top-color: var(--fill-color);\n",
              "    }\n",
              "    30% {\n",
              "      border-color: transparent;\n",
              "      border-left-color: var(--fill-color);\n",
              "      border-top-color: var(--fill-color);\n",
              "      border-right-color: var(--fill-color);\n",
              "    }\n",
              "    40% {\n",
              "      border-color: transparent;\n",
              "      border-right-color: var(--fill-color);\n",
              "      border-top-color: var(--fill-color);\n",
              "    }\n",
              "    60% {\n",
              "      border-color: transparent;\n",
              "      border-right-color: var(--fill-color);\n",
              "    }\n",
              "    80% {\n",
              "      border-color: transparent;\n",
              "      border-right-color: var(--fill-color);\n",
              "      border-bottom-color: var(--fill-color);\n",
              "    }\n",
              "    90% {\n",
              "      border-color: transparent;\n",
              "      border-bottom-color: var(--fill-color);\n",
              "    }\n",
              "  }\n",
              "</style>\n",
              "\n",
              "      <script>\n",
              "        async function quickchart(key) {\n",
              "          const quickchartButtonEl =\n",
              "            document.querySelector('#' + key + ' button');\n",
              "          quickchartButtonEl.disabled = true;  // To prevent multiple clicks.\n",
              "          quickchartButtonEl.classList.add('colab-df-spinner');\n",
              "          try {\n",
              "            const charts = await google.colab.kernel.invokeFunction(\n",
              "                'suggestCharts', [key], {});\n",
              "          } catch (error) {\n",
              "            console.error('Error during call to suggestCharts:', error);\n",
              "          }\n",
              "          quickchartButtonEl.classList.remove('colab-df-spinner');\n",
              "          quickchartButtonEl.classList.add('colab-df-quickchart-complete');\n",
              "        }\n",
              "        (() => {\n",
              "          let quickchartButtonEl =\n",
              "            document.querySelector('#df-00dc21d3-5c6d-47af-88e9-5ecf8dccc4d0 button');\n",
              "          quickchartButtonEl.style.display =\n",
              "            google.colab.kernel.accessAllowed ? 'block' : 'none';\n",
              "        })();\n",
              "      </script>\n",
              "    </div>\n",
              "\n",
              "  <div id=\"id_af77a725-8df9-4f80-8ee0-6d09c7a689a3\">\n",
              "    <style>\n",
              "      .colab-df-generate {\n",
              "        background-color: #E8F0FE;\n",
              "        border: none;\n",
              "        border-radius: 50%;\n",
              "        cursor: pointer;\n",
              "        display: none;\n",
              "        fill: #1967D2;\n",
              "        height: 32px;\n",
              "        padding: 0 0 0 0;\n",
              "        width: 32px;\n",
              "      }\n",
              "\n",
              "      .colab-df-generate:hover {\n",
              "        background-color: #E2EBFA;\n",
              "        box-shadow: 0px 1px 2px rgba(60, 64, 67, 0.3), 0px 1px 3px 1px rgba(60, 64, 67, 0.15);\n",
              "        fill: #174EA6;\n",
              "      }\n",
              "\n",
              "      [theme=dark] .colab-df-generate {\n",
              "        background-color: #3B4455;\n",
              "        fill: #D2E3FC;\n",
              "      }\n",
              "\n",
              "      [theme=dark] .colab-df-generate:hover {\n",
              "        background-color: #434B5C;\n",
              "        box-shadow: 0px 1px 3px 1px rgba(0, 0, 0, 0.15);\n",
              "        filter: drop-shadow(0px 1px 2px rgba(0, 0, 0, 0.3));\n",
              "        fill: #FFFFFF;\n",
              "      }\n",
              "    </style>\n",
              "    <button class=\"colab-df-generate\" onclick=\"generateWithVariable('penguins')\"\n",
              "            title=\"Generate code using this dataframe.\"\n",
              "            style=\"display:none;\">\n",
              "\n",
              "  <svg xmlns=\"http://www.w3.org/2000/svg\" height=\"24px\"viewBox=\"0 0 24 24\"\n",
              "       width=\"24px\">\n",
              "    <path d=\"M7,19H8.4L18.45,9,17,7.55,7,17.6ZM5,21V16.75L18.45,3.32a2,2,0,0,1,2.83,0l1.4,1.43a1.91,1.91,0,0,1,.58,1.4,1.91,1.91,0,0,1-.58,1.4L9.25,21ZM18.45,9,17,7.55Zm-12,3A5.31,5.31,0,0,0,4.9,8.1,5.31,5.31,0,0,0,1,6.5,5.31,5.31,0,0,0,4.9,4.9,5.31,5.31,0,0,0,6.5,1,5.31,5.31,0,0,0,8.1,4.9,5.31,5.31,0,0,0,12,6.5,5.46,5.46,0,0,0,6.5,12Z\"/>\n",
              "  </svg>\n",
              "    </button>\n",
              "    <script>\n",
              "      (() => {\n",
              "      const buttonEl =\n",
              "        document.querySelector('#id_af77a725-8df9-4f80-8ee0-6d09c7a689a3 button.colab-df-generate');\n",
              "      buttonEl.style.display =\n",
              "        google.colab.kernel.accessAllowed ? 'block' : 'none';\n",
              "\n",
              "      buttonEl.onclick = () => {\n",
              "        google.colab.notebook.generateWithVariable('penguins');\n",
              "      }\n",
              "      })();\n",
              "    </script>\n",
              "  </div>\n",
              "\n",
              "    </div>\n",
              "  </div>\n"
            ],
            "application/vnd.google.colaboratory.intrinsic+json": {
              "type": "dataframe",
              "variable_name": "penguins",
              "summary": "{\n  \"name\": \"penguins\",\n  \"rows\": 344,\n  \"fields\": [\n    {\n      \"column\": \"species\",\n      \"properties\": {\n        \"dtype\": \"category\",\n        \"num_unique_values\": 3,\n        \"samples\": [\n          \"Adelie\",\n          \"Chinstrap\",\n          \"Gentoo\"\n        ],\n        \"semantic_type\": \"\",\n        \"description\": \"\"\n      }\n    },\n    {\n      \"column\": \"island\",\n      \"properties\": {\n        \"dtype\": \"category\",\n        \"num_unique_values\": 3,\n        \"samples\": [\n          \"Torgersen\",\n          \"Biscoe\",\n          \"Dream\"\n        ],\n        \"semantic_type\": \"\",\n        \"description\": \"\"\n      }\n    },\n    {\n      \"column\": \"bill_length_mm\",\n      \"properties\": {\n        \"dtype\": \"number\",\n        \"std\": 5.459583713926532,\n        \"min\": 32.1,\n        \"max\": 59.6,\n        \"num_unique_values\": 164,\n        \"samples\": [\n          48.2,\n          49.8,\n          45.1\n        ],\n        \"semantic_type\": \"\",\n        \"description\": \"\"\n      }\n    },\n    {\n      \"column\": \"bill_depth_mm\",\n      \"properties\": {\n        \"dtype\": \"number\",\n        \"std\": 1.9747931568167816,\n        \"min\": 13.1,\n        \"max\": 21.5,\n        \"num_unique_values\": 80,\n        \"samples\": [\n          16.9,\n          18.7,\n          18.6\n        ],\n        \"semantic_type\": \"\",\n        \"description\": \"\"\n      }\n    },\n    {\n      \"column\": \"flipper_length_mm\",\n      \"properties\": {\n        \"dtype\": \"number\",\n        \"std\": 14.061713679356894,\n        \"min\": 172.0,\n        \"max\": 231.0,\n        \"num_unique_values\": 55,\n        \"samples\": [\n          201.0,\n          180.0,\n          212.0\n        ],\n        \"semantic_type\": \"\",\n        \"description\": \"\"\n      }\n    },\n    {\n      \"column\": \"body_mass_g\",\n      \"properties\": {\n        \"dtype\": \"number\",\n        \"std\": 801.9545356980954,\n        \"min\": 2700.0,\n        \"max\": 6300.0,\n        \"num_unique_values\": 94,\n        \"samples\": [\n          4350.0,\n          4150.0,\n          3525.0\n        ],\n        \"semantic_type\": \"\",\n        \"description\": \"\"\n      }\n    },\n    {\n      \"column\": \"sex\",\n      \"properties\": {\n        \"dtype\": \"category\",\n        \"num_unique_values\": 2,\n        \"samples\": [\n          \"Female\",\n          \"Male\"\n        ],\n        \"semantic_type\": \"\",\n        \"description\": \"\"\n      }\n    }\n  ]\n}"
            }
          },
          "metadata": {},
          "execution_count": 43
        }
      ],
      "source": [
        "penguins = sns.load_dataset('penguins')\n",
        "penguins"
      ]
    },
    {
      "cell_type": "code",
      "execution_count": 44,
      "metadata": {
        "colab": {
          "base_uri": "https://localhost:8080/",
          "height": 206
        },
        "id": "a8jjX8c5qt-t",
        "outputId": "85f36816-79c7-458d-d5f9-c017115b9def"
      },
      "outputs": [
        {
          "output_type": "execute_result",
          "data": {
            "text/plain": [
              "  species     island  bill_length_mm  bill_depth_mm  flipper_length_mm  \\\n",
              "0  Adelie  Torgersen            39.1           18.7              181.0   \n",
              "1  Adelie  Torgersen            39.5           17.4              186.0   \n",
              "2  Adelie  Torgersen            40.3           18.0              195.0   \n",
              "3  Adelie  Torgersen             NaN            NaN                NaN   \n",
              "4  Adelie  Torgersen            36.7           19.3              193.0   \n",
              "\n",
              "   body_mass_g     sex  \n",
              "0       3750.0    Male  \n",
              "1       3800.0  Female  \n",
              "2       3250.0  Female  \n",
              "3          NaN     NaN  \n",
              "4       3450.0  Female  "
            ],
            "text/html": [
              "\n",
              "  <div id=\"df-6d3def9d-2420-4937-94ab-72e69599d351\" class=\"colab-df-container\">\n",
              "    <div>\n",
              "<style scoped>\n",
              "    .dataframe tbody tr th:only-of-type {\n",
              "        vertical-align: middle;\n",
              "    }\n",
              "\n",
              "    .dataframe tbody tr th {\n",
              "        vertical-align: top;\n",
              "    }\n",
              "\n",
              "    .dataframe thead th {\n",
              "        text-align: right;\n",
              "    }\n",
              "</style>\n",
              "<table border=\"1\" class=\"dataframe\">\n",
              "  <thead>\n",
              "    <tr style=\"text-align: right;\">\n",
              "      <th></th>\n",
              "      <th>species</th>\n",
              "      <th>island</th>\n",
              "      <th>bill_length_mm</th>\n",
              "      <th>bill_depth_mm</th>\n",
              "      <th>flipper_length_mm</th>\n",
              "      <th>body_mass_g</th>\n",
              "      <th>sex</th>\n",
              "    </tr>\n",
              "  </thead>\n",
              "  <tbody>\n",
              "    <tr>\n",
              "      <th>0</th>\n",
              "      <td>Adelie</td>\n",
              "      <td>Torgersen</td>\n",
              "      <td>39.1</td>\n",
              "      <td>18.7</td>\n",
              "      <td>181.0</td>\n",
              "      <td>3750.0</td>\n",
              "      <td>Male</td>\n",
              "    </tr>\n",
              "    <tr>\n",
              "      <th>1</th>\n",
              "      <td>Adelie</td>\n",
              "      <td>Torgersen</td>\n",
              "      <td>39.5</td>\n",
              "      <td>17.4</td>\n",
              "      <td>186.0</td>\n",
              "      <td>3800.0</td>\n",
              "      <td>Female</td>\n",
              "    </tr>\n",
              "    <tr>\n",
              "      <th>2</th>\n",
              "      <td>Adelie</td>\n",
              "      <td>Torgersen</td>\n",
              "      <td>40.3</td>\n",
              "      <td>18.0</td>\n",
              "      <td>195.0</td>\n",
              "      <td>3250.0</td>\n",
              "      <td>Female</td>\n",
              "    </tr>\n",
              "    <tr>\n",
              "      <th>3</th>\n",
              "      <td>Adelie</td>\n",
              "      <td>Torgersen</td>\n",
              "      <td>NaN</td>\n",
              "      <td>NaN</td>\n",
              "      <td>NaN</td>\n",
              "      <td>NaN</td>\n",
              "      <td>NaN</td>\n",
              "    </tr>\n",
              "    <tr>\n",
              "      <th>4</th>\n",
              "      <td>Adelie</td>\n",
              "      <td>Torgersen</td>\n",
              "      <td>36.7</td>\n",
              "      <td>19.3</td>\n",
              "      <td>193.0</td>\n",
              "      <td>3450.0</td>\n",
              "      <td>Female</td>\n",
              "    </tr>\n",
              "  </tbody>\n",
              "</table>\n",
              "</div>\n",
              "    <div class=\"colab-df-buttons\">\n",
              "\n",
              "  <div class=\"colab-df-container\">\n",
              "    <button class=\"colab-df-convert\" onclick=\"convertToInteractive('df-6d3def9d-2420-4937-94ab-72e69599d351')\"\n",
              "            title=\"Convert this dataframe to an interactive table.\"\n",
              "            style=\"display:none;\">\n",
              "\n",
              "  <svg xmlns=\"http://www.w3.org/2000/svg\" height=\"24px\" viewBox=\"0 -960 960 960\">\n",
              "    <path d=\"M120-120v-720h720v720H120Zm60-500h600v-160H180v160Zm220 220h160v-160H400v160Zm0 220h160v-160H400v160ZM180-400h160v-160H180v160Zm440 0h160v-160H620v160ZM180-180h160v-160H180v160Zm440 0h160v-160H620v160Z\"/>\n",
              "  </svg>\n",
              "    </button>\n",
              "\n",
              "  <style>\n",
              "    .colab-df-container {\n",
              "      display:flex;\n",
              "      gap: 12px;\n",
              "    }\n",
              "\n",
              "    .colab-df-convert {\n",
              "      background-color: #E8F0FE;\n",
              "      border: none;\n",
              "      border-radius: 50%;\n",
              "      cursor: pointer;\n",
              "      display: none;\n",
              "      fill: #1967D2;\n",
              "      height: 32px;\n",
              "      padding: 0 0 0 0;\n",
              "      width: 32px;\n",
              "    }\n",
              "\n",
              "    .colab-df-convert:hover {\n",
              "      background-color: #E2EBFA;\n",
              "      box-shadow: 0px 1px 2px rgba(60, 64, 67, 0.3), 0px 1px 3px 1px rgba(60, 64, 67, 0.15);\n",
              "      fill: #174EA6;\n",
              "    }\n",
              "\n",
              "    .colab-df-buttons div {\n",
              "      margin-bottom: 4px;\n",
              "    }\n",
              "\n",
              "    [theme=dark] .colab-df-convert {\n",
              "      background-color: #3B4455;\n",
              "      fill: #D2E3FC;\n",
              "    }\n",
              "\n",
              "    [theme=dark] .colab-df-convert:hover {\n",
              "      background-color: #434B5C;\n",
              "      box-shadow: 0px 1px 3px 1px rgba(0, 0, 0, 0.15);\n",
              "      filter: drop-shadow(0px 1px 2px rgba(0, 0, 0, 0.3));\n",
              "      fill: #FFFFFF;\n",
              "    }\n",
              "  </style>\n",
              "\n",
              "    <script>\n",
              "      const buttonEl =\n",
              "        document.querySelector('#df-6d3def9d-2420-4937-94ab-72e69599d351 button.colab-df-convert');\n",
              "      buttonEl.style.display =\n",
              "        google.colab.kernel.accessAllowed ? 'block' : 'none';\n",
              "\n",
              "      async function convertToInteractive(key) {\n",
              "        const element = document.querySelector('#df-6d3def9d-2420-4937-94ab-72e69599d351');\n",
              "        const dataTable =\n",
              "          await google.colab.kernel.invokeFunction('convertToInteractive',\n",
              "                                                    [key], {});\n",
              "        if (!dataTable) return;\n",
              "\n",
              "        const docLinkHtml = 'Like what you see? Visit the ' +\n",
              "          '<a target=\"_blank\" href=https://colab.research.google.com/notebooks/data_table.ipynb>data table notebook</a>'\n",
              "          + ' to learn more about interactive tables.';\n",
              "        element.innerHTML = '';\n",
              "        dataTable['output_type'] = 'display_data';\n",
              "        await google.colab.output.renderOutput(dataTable, element);\n",
              "        const docLink = document.createElement('div');\n",
              "        docLink.innerHTML = docLinkHtml;\n",
              "        element.appendChild(docLink);\n",
              "      }\n",
              "    </script>\n",
              "  </div>\n",
              "\n",
              "\n",
              "    <div id=\"df-86c4e007-db89-47b7-a646-d231b0a39899\">\n",
              "      <button class=\"colab-df-quickchart\" onclick=\"quickchart('df-86c4e007-db89-47b7-a646-d231b0a39899')\"\n",
              "                title=\"Suggest charts\"\n",
              "                style=\"display:none;\">\n",
              "\n",
              "<svg xmlns=\"http://www.w3.org/2000/svg\" height=\"24px\"viewBox=\"0 0 24 24\"\n",
              "     width=\"24px\">\n",
              "    <g>\n",
              "        <path d=\"M19 3H5c-1.1 0-2 .9-2 2v14c0 1.1.9 2 2 2h14c1.1 0 2-.9 2-2V5c0-1.1-.9-2-2-2zM9 17H7v-7h2v7zm4 0h-2V7h2v10zm4 0h-2v-4h2v4z\"/>\n",
              "    </g>\n",
              "</svg>\n",
              "      </button>\n",
              "\n",
              "<style>\n",
              "  .colab-df-quickchart {\n",
              "      --bg-color: #E8F0FE;\n",
              "      --fill-color: #1967D2;\n",
              "      --hover-bg-color: #E2EBFA;\n",
              "      --hover-fill-color: #174EA6;\n",
              "      --disabled-fill-color: #AAA;\n",
              "      --disabled-bg-color: #DDD;\n",
              "  }\n",
              "\n",
              "  [theme=dark] .colab-df-quickchart {\n",
              "      --bg-color: #3B4455;\n",
              "      --fill-color: #D2E3FC;\n",
              "      --hover-bg-color: #434B5C;\n",
              "      --hover-fill-color: #FFFFFF;\n",
              "      --disabled-bg-color: #3B4455;\n",
              "      --disabled-fill-color: #666;\n",
              "  }\n",
              "\n",
              "  .colab-df-quickchart {\n",
              "    background-color: var(--bg-color);\n",
              "    border: none;\n",
              "    border-radius: 50%;\n",
              "    cursor: pointer;\n",
              "    display: none;\n",
              "    fill: var(--fill-color);\n",
              "    height: 32px;\n",
              "    padding: 0;\n",
              "    width: 32px;\n",
              "  }\n",
              "\n",
              "  .colab-df-quickchart:hover {\n",
              "    background-color: var(--hover-bg-color);\n",
              "    box-shadow: 0 1px 2px rgba(60, 64, 67, 0.3), 0 1px 3px 1px rgba(60, 64, 67, 0.15);\n",
              "    fill: var(--button-hover-fill-color);\n",
              "  }\n",
              "\n",
              "  .colab-df-quickchart-complete:disabled,\n",
              "  .colab-df-quickchart-complete:disabled:hover {\n",
              "    background-color: var(--disabled-bg-color);\n",
              "    fill: var(--disabled-fill-color);\n",
              "    box-shadow: none;\n",
              "  }\n",
              "\n",
              "  .colab-df-spinner {\n",
              "    border: 2px solid var(--fill-color);\n",
              "    border-color: transparent;\n",
              "    border-bottom-color: var(--fill-color);\n",
              "    animation:\n",
              "      spin 1s steps(1) infinite;\n",
              "  }\n",
              "\n",
              "  @keyframes spin {\n",
              "    0% {\n",
              "      border-color: transparent;\n",
              "      border-bottom-color: var(--fill-color);\n",
              "      border-left-color: var(--fill-color);\n",
              "    }\n",
              "    20% {\n",
              "      border-color: transparent;\n",
              "      border-left-color: var(--fill-color);\n",
              "      border-top-color: var(--fill-color);\n",
              "    }\n",
              "    30% {\n",
              "      border-color: transparent;\n",
              "      border-left-color: var(--fill-color);\n",
              "      border-top-color: var(--fill-color);\n",
              "      border-right-color: var(--fill-color);\n",
              "    }\n",
              "    40% {\n",
              "      border-color: transparent;\n",
              "      border-right-color: var(--fill-color);\n",
              "      border-top-color: var(--fill-color);\n",
              "    }\n",
              "    60% {\n",
              "      border-color: transparent;\n",
              "      border-right-color: var(--fill-color);\n",
              "    }\n",
              "    80% {\n",
              "      border-color: transparent;\n",
              "      border-right-color: var(--fill-color);\n",
              "      border-bottom-color: var(--fill-color);\n",
              "    }\n",
              "    90% {\n",
              "      border-color: transparent;\n",
              "      border-bottom-color: var(--fill-color);\n",
              "    }\n",
              "  }\n",
              "</style>\n",
              "\n",
              "      <script>\n",
              "        async function quickchart(key) {\n",
              "          const quickchartButtonEl =\n",
              "            document.querySelector('#' + key + ' button');\n",
              "          quickchartButtonEl.disabled = true;  // To prevent multiple clicks.\n",
              "          quickchartButtonEl.classList.add('colab-df-spinner');\n",
              "          try {\n",
              "            const charts = await google.colab.kernel.invokeFunction(\n",
              "                'suggestCharts', [key], {});\n",
              "          } catch (error) {\n",
              "            console.error('Error during call to suggestCharts:', error);\n",
              "          }\n",
              "          quickchartButtonEl.classList.remove('colab-df-spinner');\n",
              "          quickchartButtonEl.classList.add('colab-df-quickchart-complete');\n",
              "        }\n",
              "        (() => {\n",
              "          let quickchartButtonEl =\n",
              "            document.querySelector('#df-86c4e007-db89-47b7-a646-d231b0a39899 button');\n",
              "          quickchartButtonEl.style.display =\n",
              "            google.colab.kernel.accessAllowed ? 'block' : 'none';\n",
              "        })();\n",
              "      </script>\n",
              "    </div>\n",
              "\n",
              "    </div>\n",
              "  </div>\n"
            ],
            "application/vnd.google.colaboratory.intrinsic+json": {
              "type": "dataframe",
              "variable_name": "df",
              "summary": "{\n  \"name\": \"df\",\n  \"rows\": 344,\n  \"fields\": [\n    {\n      \"column\": \"species\",\n      \"properties\": {\n        \"dtype\": \"category\",\n        \"num_unique_values\": 3,\n        \"samples\": [\n          \"Adelie\",\n          \"Chinstrap\",\n          \"Gentoo\"\n        ],\n        \"semantic_type\": \"\",\n        \"description\": \"\"\n      }\n    },\n    {\n      \"column\": \"island\",\n      \"properties\": {\n        \"dtype\": \"category\",\n        \"num_unique_values\": 3,\n        \"samples\": [\n          \"Torgersen\",\n          \"Biscoe\",\n          \"Dream\"\n        ],\n        \"semantic_type\": \"\",\n        \"description\": \"\"\n      }\n    },\n    {\n      \"column\": \"bill_length_mm\",\n      \"properties\": {\n        \"dtype\": \"number\",\n        \"std\": 5.459583713926532,\n        \"min\": 32.1,\n        \"max\": 59.6,\n        \"num_unique_values\": 164,\n        \"samples\": [\n          48.2,\n          49.8,\n          45.1\n        ],\n        \"semantic_type\": \"\",\n        \"description\": \"\"\n      }\n    },\n    {\n      \"column\": \"bill_depth_mm\",\n      \"properties\": {\n        \"dtype\": \"number\",\n        \"std\": 1.9747931568167816,\n        \"min\": 13.1,\n        \"max\": 21.5,\n        \"num_unique_values\": 80,\n        \"samples\": [\n          16.9,\n          18.7,\n          18.6\n        ],\n        \"semantic_type\": \"\",\n        \"description\": \"\"\n      }\n    },\n    {\n      \"column\": \"flipper_length_mm\",\n      \"properties\": {\n        \"dtype\": \"number\",\n        \"std\": 14.061713679356894,\n        \"min\": 172.0,\n        \"max\": 231.0,\n        \"num_unique_values\": 55,\n        \"samples\": [\n          201.0,\n          180.0,\n          212.0\n        ],\n        \"semantic_type\": \"\",\n        \"description\": \"\"\n      }\n    },\n    {\n      \"column\": \"body_mass_g\",\n      \"properties\": {\n        \"dtype\": \"number\",\n        \"std\": 801.9545356980954,\n        \"min\": 2700.0,\n        \"max\": 6300.0,\n        \"num_unique_values\": 94,\n        \"samples\": [\n          4350.0,\n          4150.0,\n          3525.0\n        ],\n        \"semantic_type\": \"\",\n        \"description\": \"\"\n      }\n    },\n    {\n      \"column\": \"sex\",\n      \"properties\": {\n        \"dtype\": \"category\",\n        \"num_unique_values\": 2,\n        \"samples\": [\n          \"Female\",\n          \"Male\"\n        ],\n        \"semantic_type\": \"\",\n        \"description\": \"\"\n      }\n    }\n  ]\n}"
            }
          },
          "metadata": {},
          "execution_count": 44
        }
      ],
      "source": [
        "df = pd.DataFrame(penguins)\n",
        "df.head()"
      ]
    },
    {
      "cell_type": "code",
      "execution_count": 45,
      "metadata": {
        "colab": {
          "base_uri": "https://localhost:8080/"
        },
        "id": "UFakqY7zN8Rm",
        "outputId": "17502fd5-d8f6-4238-9ddc-32921eee5c6a"
      },
      "outputs": [
        {
          "output_type": "execute_result",
          "data": {
            "text/plain": [
              "(344, 7)"
            ]
          },
          "metadata": {},
          "execution_count": 45
        }
      ],
      "source": [
        "df.shape"
      ]
    },
    {
      "cell_type": "code",
      "execution_count": 46,
      "metadata": {
        "colab": {
          "base_uri": "https://localhost:8080/"
        },
        "id": "KoJEljROOJEP",
        "outputId": "ec48107e-7157-41a3-f8e1-b683995329bd"
      },
      "outputs": [
        {
          "output_type": "execute_result",
          "data": {
            "text/plain": [
              "['species',\n",
              " 'island',\n",
              " 'bill_length_mm',\n",
              " 'bill_depth_mm',\n",
              " 'flipper_length_mm',\n",
              " 'body_mass_g',\n",
              " 'sex']"
            ]
          },
          "metadata": {},
          "execution_count": 46
        }
      ],
      "source": [
        "df.columns.tolist()"
      ]
    },
    {
      "cell_type": "code",
      "execution_count": 47,
      "metadata": {
        "colab": {
          "base_uri": "https://localhost:8080/"
        },
        "id": "fCALFWn3rIyt",
        "outputId": "6f6aa24c-1289-456f-d344-d1447b7780da"
      },
      "outputs": [
        {
          "output_type": "stream",
          "name": "stdout",
          "text": [
            "<class 'pandas.core.frame.DataFrame'>\n",
            "RangeIndex: 344 entries, 0 to 343\n",
            "Data columns (total 7 columns):\n",
            " #   Column             Non-Null Count  Dtype  \n",
            "---  ------             --------------  -----  \n",
            " 0   species            344 non-null    object \n",
            " 1   island             344 non-null    object \n",
            " 2   bill_length_mm     342 non-null    float64\n",
            " 3   bill_depth_mm      342 non-null    float64\n",
            " 4   flipper_length_mm  342 non-null    float64\n",
            " 5   body_mass_g        342 non-null    float64\n",
            " 6   sex                333 non-null    object \n",
            "dtypes: float64(4), object(3)\n",
            "memory usage: 18.9+ KB\n"
          ]
        }
      ],
      "source": [
        "df.info()"
      ]
    },
    {
      "cell_type": "code",
      "execution_count": 48,
      "metadata": {
        "colab": {
          "base_uri": "https://localhost:8080/"
        },
        "id": "L71P8PqqrVFI",
        "outputId": "f2c1912f-d787-4793-fdfa-4fa89918dadd"
      },
      "outputs": [
        {
          "output_type": "stream",
          "name": "stdout",
          "text": [
            "species               0\n",
            "island                0\n",
            "bill_length_mm        2\n",
            "bill_depth_mm         2\n",
            "flipper_length_mm     2\n",
            "body_mass_g           2\n",
            "sex                  11\n",
            "dtype: int64\n"
          ]
        }
      ],
      "source": [
        "## Check null (missing values)\n",
        "print(penguins.isnull().sum())"
      ]
    },
    {
      "cell_type": "markdown",
      "metadata": {
        "id": "y2ffl1JIqtkh"
      },
      "source": [
        "Ex1: Filling mising values with the mean"
      ]
    },
    {
      "cell_type": "code",
      "execution_count": 49,
      "metadata": {
        "colab": {
          "base_uri": "https://localhost:8080/"
        },
        "id": "nLyoUXK4r7fa",
        "outputId": "8bbf0134-ddfd-4923-8eae-3bf2f371a361"
      },
      "outputs": [
        {
          "output_type": "stream",
          "name": "stdout",
          "text": [
            "species              0\n",
            "island               0\n",
            "bill_length_mm       0\n",
            "bill_depth_mm        0\n",
            "flipper_length_mm    0\n",
            "body_mass_g          0\n",
            "sex                  0\n",
            "dtype: int64\n"
          ]
        }
      ],
      "source": [
        "## First way: using DataFrame\n",
        "df.bill_depth_mm = df.bill_depth_mm.fillna(df.bill_depth_mm.mean())\n",
        "df.bill_length_mm = df.bill_length_mm.fillna(df.bill_length_mm.mean())\n",
        "df.flipper_length_mm = df.flipper_length_mm.fillna(df.flipper_length_mm.mean())\n",
        "df.body_mass_g = df.body_mass_g.fillna(df.body_mass_g.mean())\n",
        "\n",
        "df.sex = df.sex.fillna(df.sex.mode()[0]) # as sex is categorical, using mode (most frequent value) to handle missing values.\n",
        "\n",
        "# Check null\n",
        "df[df.isna().any(axis=1)]\n",
        "print(df.isnull().sum())"
      ]
    },
    {
      "cell_type": "code",
      "execution_count": 50,
      "metadata": {
        "colab": {
          "base_uri": "https://localhost:8080/"
        },
        "id": "VgKFKNqEvFOH",
        "outputId": "e61400e7-07a3-4f66-98ee-eb7c439d113e"
      },
      "outputs": [
        {
          "output_type": "stream",
          "name": "stdout",
          "text": [
            "species              0\n",
            "island               0\n",
            "bill_length_mm       0\n",
            "bill_depth_mm        0\n",
            "flipper_length_mm    0\n",
            "body_mass_g          0\n",
            "sex                  0\n",
            "dtype: int64\n"
          ]
        }
      ],
      "source": [
        "## Second way: using Imputer\n",
        "from sklearn.impute import SimpleImputer\n",
        "\n",
        "imputer1 = SimpleImputer(missing_values=np.nan, strategy='mean')\n",
        "penguins[['bill_length_mm','bill_depth_mm', 'flipper_length_mm', 'body_mass_g']] = imputer1.fit_transform(penguins[['bill_length_mm','bill_depth_mm', 'flipper_length_mm', 'body_mass_g']])\n",
        "\n",
        "imputer2 = SimpleImputer(missing_values=np.nan, strategy='most_frequent')\n",
        "penguins['sex'] = imputer2.fit_transform(penguins[['sex']])[:, 0]\n",
        "\n",
        "print(penguins.isnull().sum())"
      ]
    },
    {
      "cell_type": "markdown",
      "metadata": {
        "id": "v4sR6DukOrIY"
      },
      "source": [
        "Ex2: Find all Adelie penguins with a body mass greater than 4000 grams."
      ]
    },
    {
      "cell_type": "code",
      "execution_count": 51,
      "metadata": {
        "colab": {
          "base_uri": "https://localhost:8080/",
          "height": 1000
        },
        "id": "_A4WcH0IOnV0",
        "outputId": "5024e6dc-e5f8-4ab9-a9ab-b5cd0ef9e5cd"
      },
      "outputs": [
        {
          "output_type": "execute_result",
          "data": {
            "text/plain": [
              "     bill_length_mm  bill_depth_mm  flipper_length_mm\n",
              "3          43.92193       17.15117         200.915205\n",
              "7          39.20000       19.60000         195.000000\n",
              "9          42.00000       20.20000         190.000000\n",
              "14         34.60000       21.10000         198.000000\n",
              "17         42.50000       20.70000         197.000000\n",
              "19         46.00000       21.50000         194.000000\n",
              "35         39.20000       21.10000         196.000000\n",
              "39         39.80000       19.10000         184.000000\n",
              "43         44.10000       19.70000         196.000000\n",
              "45         39.60000       18.80000         190.000000\n",
              "49         42.30000       21.20000         191.000000\n",
              "51         40.10000       18.90000         188.000000\n",
              "53         42.00000       19.50000         200.000000\n",
              "61         41.30000       21.10000         195.000000\n",
              "63         41.10000       18.20000         192.000000\n",
              "67         41.10000       19.10000         188.000000\n",
              "69         41.80000       19.40000         198.000000\n",
              "73         45.80000       18.90000         197.000000\n",
              "75         42.80000       18.50000         195.000000\n",
              "81         42.90000       17.60000         196.000000\n",
              "83         35.10000       19.40000         193.000000\n",
              "91         41.10000       18.10000         205.000000\n",
              "93         39.60000       18.10000         186.000000\n",
              "95         40.80000       18.90000         208.000000\n",
              "97         40.30000       18.50000         196.000000\n",
              "99         43.20000       18.50000         192.000000\n",
              "101        41.00000       20.00000         203.000000\n",
              "103        37.80000       20.00000         190.000000\n",
              "109        43.20000       19.00000         197.000000\n",
              "111        45.60000       20.30000         191.000000\n",
              "113        42.20000       19.50000         197.000000\n",
              "115        42.70000       18.30000         196.000000\n",
              "127        41.50000       18.30000         195.000000\n",
              "133        37.50000       18.50000         199.000000\n",
              "139        39.70000       17.90000         193.000000\n",
              "146        39.20000       18.60000         190.000000"
            ],
            "text/html": [
              "\n",
              "  <div id=\"df-a6598820-b685-4102-a014-d3fd91d32989\" class=\"colab-df-container\">\n",
              "    <div>\n",
              "<style scoped>\n",
              "    .dataframe tbody tr th:only-of-type {\n",
              "        vertical-align: middle;\n",
              "    }\n",
              "\n",
              "    .dataframe tbody tr th {\n",
              "        vertical-align: top;\n",
              "    }\n",
              "\n",
              "    .dataframe thead th {\n",
              "        text-align: right;\n",
              "    }\n",
              "</style>\n",
              "<table border=\"1\" class=\"dataframe\">\n",
              "  <thead>\n",
              "    <tr style=\"text-align: right;\">\n",
              "      <th></th>\n",
              "      <th>bill_length_mm</th>\n",
              "      <th>bill_depth_mm</th>\n",
              "      <th>flipper_length_mm</th>\n",
              "    </tr>\n",
              "  </thead>\n",
              "  <tbody>\n",
              "    <tr>\n",
              "      <th>3</th>\n",
              "      <td>43.92193</td>\n",
              "      <td>17.15117</td>\n",
              "      <td>200.915205</td>\n",
              "    </tr>\n",
              "    <tr>\n",
              "      <th>7</th>\n",
              "      <td>39.20000</td>\n",
              "      <td>19.60000</td>\n",
              "      <td>195.000000</td>\n",
              "    </tr>\n",
              "    <tr>\n",
              "      <th>9</th>\n",
              "      <td>42.00000</td>\n",
              "      <td>20.20000</td>\n",
              "      <td>190.000000</td>\n",
              "    </tr>\n",
              "    <tr>\n",
              "      <th>14</th>\n",
              "      <td>34.60000</td>\n",
              "      <td>21.10000</td>\n",
              "      <td>198.000000</td>\n",
              "    </tr>\n",
              "    <tr>\n",
              "      <th>17</th>\n",
              "      <td>42.50000</td>\n",
              "      <td>20.70000</td>\n",
              "      <td>197.000000</td>\n",
              "    </tr>\n",
              "    <tr>\n",
              "      <th>19</th>\n",
              "      <td>46.00000</td>\n",
              "      <td>21.50000</td>\n",
              "      <td>194.000000</td>\n",
              "    </tr>\n",
              "    <tr>\n",
              "      <th>35</th>\n",
              "      <td>39.20000</td>\n",
              "      <td>21.10000</td>\n",
              "      <td>196.000000</td>\n",
              "    </tr>\n",
              "    <tr>\n",
              "      <th>39</th>\n",
              "      <td>39.80000</td>\n",
              "      <td>19.10000</td>\n",
              "      <td>184.000000</td>\n",
              "    </tr>\n",
              "    <tr>\n",
              "      <th>43</th>\n",
              "      <td>44.10000</td>\n",
              "      <td>19.70000</td>\n",
              "      <td>196.000000</td>\n",
              "    </tr>\n",
              "    <tr>\n",
              "      <th>45</th>\n",
              "      <td>39.60000</td>\n",
              "      <td>18.80000</td>\n",
              "      <td>190.000000</td>\n",
              "    </tr>\n",
              "    <tr>\n",
              "      <th>49</th>\n",
              "      <td>42.30000</td>\n",
              "      <td>21.20000</td>\n",
              "      <td>191.000000</td>\n",
              "    </tr>\n",
              "    <tr>\n",
              "      <th>51</th>\n",
              "      <td>40.10000</td>\n",
              "      <td>18.90000</td>\n",
              "      <td>188.000000</td>\n",
              "    </tr>\n",
              "    <tr>\n",
              "      <th>53</th>\n",
              "      <td>42.00000</td>\n",
              "      <td>19.50000</td>\n",
              "      <td>200.000000</td>\n",
              "    </tr>\n",
              "    <tr>\n",
              "      <th>61</th>\n",
              "      <td>41.30000</td>\n",
              "      <td>21.10000</td>\n",
              "      <td>195.000000</td>\n",
              "    </tr>\n",
              "    <tr>\n",
              "      <th>63</th>\n",
              "      <td>41.10000</td>\n",
              "      <td>18.20000</td>\n",
              "      <td>192.000000</td>\n",
              "    </tr>\n",
              "    <tr>\n",
              "      <th>67</th>\n",
              "      <td>41.10000</td>\n",
              "      <td>19.10000</td>\n",
              "      <td>188.000000</td>\n",
              "    </tr>\n",
              "    <tr>\n",
              "      <th>69</th>\n",
              "      <td>41.80000</td>\n",
              "      <td>19.40000</td>\n",
              "      <td>198.000000</td>\n",
              "    </tr>\n",
              "    <tr>\n",
              "      <th>73</th>\n",
              "      <td>45.80000</td>\n",
              "      <td>18.90000</td>\n",
              "      <td>197.000000</td>\n",
              "    </tr>\n",
              "    <tr>\n",
              "      <th>75</th>\n",
              "      <td>42.80000</td>\n",
              "      <td>18.50000</td>\n",
              "      <td>195.000000</td>\n",
              "    </tr>\n",
              "    <tr>\n",
              "      <th>81</th>\n",
              "      <td>42.90000</td>\n",
              "      <td>17.60000</td>\n",
              "      <td>196.000000</td>\n",
              "    </tr>\n",
              "    <tr>\n",
              "      <th>83</th>\n",
              "      <td>35.10000</td>\n",
              "      <td>19.40000</td>\n",
              "      <td>193.000000</td>\n",
              "    </tr>\n",
              "    <tr>\n",
              "      <th>91</th>\n",
              "      <td>41.10000</td>\n",
              "      <td>18.10000</td>\n",
              "      <td>205.000000</td>\n",
              "    </tr>\n",
              "    <tr>\n",
              "      <th>93</th>\n",
              "      <td>39.60000</td>\n",
              "      <td>18.10000</td>\n",
              "      <td>186.000000</td>\n",
              "    </tr>\n",
              "    <tr>\n",
              "      <th>95</th>\n",
              "      <td>40.80000</td>\n",
              "      <td>18.90000</td>\n",
              "      <td>208.000000</td>\n",
              "    </tr>\n",
              "    <tr>\n",
              "      <th>97</th>\n",
              "      <td>40.30000</td>\n",
              "      <td>18.50000</td>\n",
              "      <td>196.000000</td>\n",
              "    </tr>\n",
              "    <tr>\n",
              "      <th>99</th>\n",
              "      <td>43.20000</td>\n",
              "      <td>18.50000</td>\n",
              "      <td>192.000000</td>\n",
              "    </tr>\n",
              "    <tr>\n",
              "      <th>101</th>\n",
              "      <td>41.00000</td>\n",
              "      <td>20.00000</td>\n",
              "      <td>203.000000</td>\n",
              "    </tr>\n",
              "    <tr>\n",
              "      <th>103</th>\n",
              "      <td>37.80000</td>\n",
              "      <td>20.00000</td>\n",
              "      <td>190.000000</td>\n",
              "    </tr>\n",
              "    <tr>\n",
              "      <th>109</th>\n",
              "      <td>43.20000</td>\n",
              "      <td>19.00000</td>\n",
              "      <td>197.000000</td>\n",
              "    </tr>\n",
              "    <tr>\n",
              "      <th>111</th>\n",
              "      <td>45.60000</td>\n",
              "      <td>20.30000</td>\n",
              "      <td>191.000000</td>\n",
              "    </tr>\n",
              "    <tr>\n",
              "      <th>113</th>\n",
              "      <td>42.20000</td>\n",
              "      <td>19.50000</td>\n",
              "      <td>197.000000</td>\n",
              "    </tr>\n",
              "    <tr>\n",
              "      <th>115</th>\n",
              "      <td>42.70000</td>\n",
              "      <td>18.30000</td>\n",
              "      <td>196.000000</td>\n",
              "    </tr>\n",
              "    <tr>\n",
              "      <th>127</th>\n",
              "      <td>41.50000</td>\n",
              "      <td>18.30000</td>\n",
              "      <td>195.000000</td>\n",
              "    </tr>\n",
              "    <tr>\n",
              "      <th>133</th>\n",
              "      <td>37.50000</td>\n",
              "      <td>18.50000</td>\n",
              "      <td>199.000000</td>\n",
              "    </tr>\n",
              "    <tr>\n",
              "      <th>139</th>\n",
              "      <td>39.70000</td>\n",
              "      <td>17.90000</td>\n",
              "      <td>193.000000</td>\n",
              "    </tr>\n",
              "    <tr>\n",
              "      <th>146</th>\n",
              "      <td>39.20000</td>\n",
              "      <td>18.60000</td>\n",
              "      <td>190.000000</td>\n",
              "    </tr>\n",
              "  </tbody>\n",
              "</table>\n",
              "</div>\n",
              "    <div class=\"colab-df-buttons\">\n",
              "\n",
              "  <div class=\"colab-df-container\">\n",
              "    <button class=\"colab-df-convert\" onclick=\"convertToInteractive('df-a6598820-b685-4102-a014-d3fd91d32989')\"\n",
              "            title=\"Convert this dataframe to an interactive table.\"\n",
              "            style=\"display:none;\">\n",
              "\n",
              "  <svg xmlns=\"http://www.w3.org/2000/svg\" height=\"24px\" viewBox=\"0 -960 960 960\">\n",
              "    <path d=\"M120-120v-720h720v720H120Zm60-500h600v-160H180v160Zm220 220h160v-160H400v160Zm0 220h160v-160H400v160ZM180-400h160v-160H180v160Zm440 0h160v-160H620v160ZM180-180h160v-160H180v160Zm440 0h160v-160H620v160Z\"/>\n",
              "  </svg>\n",
              "    </button>\n",
              "\n",
              "  <style>\n",
              "    .colab-df-container {\n",
              "      display:flex;\n",
              "      gap: 12px;\n",
              "    }\n",
              "\n",
              "    .colab-df-convert {\n",
              "      background-color: #E8F0FE;\n",
              "      border: none;\n",
              "      border-radius: 50%;\n",
              "      cursor: pointer;\n",
              "      display: none;\n",
              "      fill: #1967D2;\n",
              "      height: 32px;\n",
              "      padding: 0 0 0 0;\n",
              "      width: 32px;\n",
              "    }\n",
              "\n",
              "    .colab-df-convert:hover {\n",
              "      background-color: #E2EBFA;\n",
              "      box-shadow: 0px 1px 2px rgba(60, 64, 67, 0.3), 0px 1px 3px 1px rgba(60, 64, 67, 0.15);\n",
              "      fill: #174EA6;\n",
              "    }\n",
              "\n",
              "    .colab-df-buttons div {\n",
              "      margin-bottom: 4px;\n",
              "    }\n",
              "\n",
              "    [theme=dark] .colab-df-convert {\n",
              "      background-color: #3B4455;\n",
              "      fill: #D2E3FC;\n",
              "    }\n",
              "\n",
              "    [theme=dark] .colab-df-convert:hover {\n",
              "      background-color: #434B5C;\n",
              "      box-shadow: 0px 1px 3px 1px rgba(0, 0, 0, 0.15);\n",
              "      filter: drop-shadow(0px 1px 2px rgba(0, 0, 0, 0.3));\n",
              "      fill: #FFFFFF;\n",
              "    }\n",
              "  </style>\n",
              "\n",
              "    <script>\n",
              "      const buttonEl =\n",
              "        document.querySelector('#df-a6598820-b685-4102-a014-d3fd91d32989 button.colab-df-convert');\n",
              "      buttonEl.style.display =\n",
              "        google.colab.kernel.accessAllowed ? 'block' : 'none';\n",
              "\n",
              "      async function convertToInteractive(key) {\n",
              "        const element = document.querySelector('#df-a6598820-b685-4102-a014-d3fd91d32989');\n",
              "        const dataTable =\n",
              "          await google.colab.kernel.invokeFunction('convertToInteractive',\n",
              "                                                    [key], {});\n",
              "        if (!dataTable) return;\n",
              "\n",
              "        const docLinkHtml = 'Like what you see? Visit the ' +\n",
              "          '<a target=\"_blank\" href=https://colab.research.google.com/notebooks/data_table.ipynb>data table notebook</a>'\n",
              "          + ' to learn more about interactive tables.';\n",
              "        element.innerHTML = '';\n",
              "        dataTable['output_type'] = 'display_data';\n",
              "        await google.colab.output.renderOutput(dataTable, element);\n",
              "        const docLink = document.createElement('div');\n",
              "        docLink.innerHTML = docLinkHtml;\n",
              "        element.appendChild(docLink);\n",
              "      }\n",
              "    </script>\n",
              "  </div>\n",
              "\n",
              "\n",
              "    <div id=\"df-8f3f20f3-9da5-44f4-88dc-9bfff2958096\">\n",
              "      <button class=\"colab-df-quickchart\" onclick=\"quickchart('df-8f3f20f3-9da5-44f4-88dc-9bfff2958096')\"\n",
              "                title=\"Suggest charts\"\n",
              "                style=\"display:none;\">\n",
              "\n",
              "<svg xmlns=\"http://www.w3.org/2000/svg\" height=\"24px\"viewBox=\"0 0 24 24\"\n",
              "     width=\"24px\">\n",
              "    <g>\n",
              "        <path d=\"M19 3H5c-1.1 0-2 .9-2 2v14c0 1.1.9 2 2 2h14c1.1 0 2-.9 2-2V5c0-1.1-.9-2-2-2zM9 17H7v-7h2v7zm4 0h-2V7h2v10zm4 0h-2v-4h2v4z\"/>\n",
              "    </g>\n",
              "</svg>\n",
              "      </button>\n",
              "\n",
              "<style>\n",
              "  .colab-df-quickchart {\n",
              "      --bg-color: #E8F0FE;\n",
              "      --fill-color: #1967D2;\n",
              "      --hover-bg-color: #E2EBFA;\n",
              "      --hover-fill-color: #174EA6;\n",
              "      --disabled-fill-color: #AAA;\n",
              "      --disabled-bg-color: #DDD;\n",
              "  }\n",
              "\n",
              "  [theme=dark] .colab-df-quickchart {\n",
              "      --bg-color: #3B4455;\n",
              "      --fill-color: #D2E3FC;\n",
              "      --hover-bg-color: #434B5C;\n",
              "      --hover-fill-color: #FFFFFF;\n",
              "      --disabled-bg-color: #3B4455;\n",
              "      --disabled-fill-color: #666;\n",
              "  }\n",
              "\n",
              "  .colab-df-quickchart {\n",
              "    background-color: var(--bg-color);\n",
              "    border: none;\n",
              "    border-radius: 50%;\n",
              "    cursor: pointer;\n",
              "    display: none;\n",
              "    fill: var(--fill-color);\n",
              "    height: 32px;\n",
              "    padding: 0;\n",
              "    width: 32px;\n",
              "  }\n",
              "\n",
              "  .colab-df-quickchart:hover {\n",
              "    background-color: var(--hover-bg-color);\n",
              "    box-shadow: 0 1px 2px rgba(60, 64, 67, 0.3), 0 1px 3px 1px rgba(60, 64, 67, 0.15);\n",
              "    fill: var(--button-hover-fill-color);\n",
              "  }\n",
              "\n",
              "  .colab-df-quickchart-complete:disabled,\n",
              "  .colab-df-quickchart-complete:disabled:hover {\n",
              "    background-color: var(--disabled-bg-color);\n",
              "    fill: var(--disabled-fill-color);\n",
              "    box-shadow: none;\n",
              "  }\n",
              "\n",
              "  .colab-df-spinner {\n",
              "    border: 2px solid var(--fill-color);\n",
              "    border-color: transparent;\n",
              "    border-bottom-color: var(--fill-color);\n",
              "    animation:\n",
              "      spin 1s steps(1) infinite;\n",
              "  }\n",
              "\n",
              "  @keyframes spin {\n",
              "    0% {\n",
              "      border-color: transparent;\n",
              "      border-bottom-color: var(--fill-color);\n",
              "      border-left-color: var(--fill-color);\n",
              "    }\n",
              "    20% {\n",
              "      border-color: transparent;\n",
              "      border-left-color: var(--fill-color);\n",
              "      border-top-color: var(--fill-color);\n",
              "    }\n",
              "    30% {\n",
              "      border-color: transparent;\n",
              "      border-left-color: var(--fill-color);\n",
              "      border-top-color: var(--fill-color);\n",
              "      border-right-color: var(--fill-color);\n",
              "    }\n",
              "    40% {\n",
              "      border-color: transparent;\n",
              "      border-right-color: var(--fill-color);\n",
              "      border-top-color: var(--fill-color);\n",
              "    }\n",
              "    60% {\n",
              "      border-color: transparent;\n",
              "      border-right-color: var(--fill-color);\n",
              "    }\n",
              "    80% {\n",
              "      border-color: transparent;\n",
              "      border-right-color: var(--fill-color);\n",
              "      border-bottom-color: var(--fill-color);\n",
              "    }\n",
              "    90% {\n",
              "      border-color: transparent;\n",
              "      border-bottom-color: var(--fill-color);\n",
              "    }\n",
              "  }\n",
              "</style>\n",
              "\n",
              "      <script>\n",
              "        async function quickchart(key) {\n",
              "          const quickchartButtonEl =\n",
              "            document.querySelector('#' + key + ' button');\n",
              "          quickchartButtonEl.disabled = true;  // To prevent multiple clicks.\n",
              "          quickchartButtonEl.classList.add('colab-df-spinner');\n",
              "          try {\n",
              "            const charts = await google.colab.kernel.invokeFunction(\n",
              "                'suggestCharts', [key], {});\n",
              "          } catch (error) {\n",
              "            console.error('Error during call to suggestCharts:', error);\n",
              "          }\n",
              "          quickchartButtonEl.classList.remove('colab-df-spinner');\n",
              "          quickchartButtonEl.classList.add('colab-df-quickchart-complete');\n",
              "        }\n",
              "        (() => {\n",
              "          let quickchartButtonEl =\n",
              "            document.querySelector('#df-8f3f20f3-9da5-44f4-88dc-9bfff2958096 button');\n",
              "          quickchartButtonEl.style.display =\n",
              "            google.colab.kernel.accessAllowed ? 'block' : 'none';\n",
              "        })();\n",
              "      </script>\n",
              "    </div>\n",
              "\n",
              "    </div>\n",
              "  </div>\n"
            ],
            "application/vnd.google.colaboratory.intrinsic+json": {
              "type": "dataframe",
              "summary": "{\n  \"name\": \"adelie_body[['bill_length_mm', 'bill_depth_mm', 'flipper_length_mm']]\",\n  \"rows\": 36,\n  \"fields\": [\n    {\n      \"column\": \"bill_length_mm\",\n      \"properties\": {\n        \"dtype\": \"number\",\n        \"std\": 2.565204640152948,\n        \"min\": 34.6,\n        \"max\": 46.0,\n        \"num_unique_values\": 29,\n        \"samples\": [\n          37.5,\n          42.9,\n          41.1\n        ],\n        \"semantic_type\": \"\",\n        \"description\": \"\"\n      }\n    },\n    {\n      \"column\": \"bill_depth_mm\",\n      \"properties\": {\n        \"dtype\": \"number\",\n        \"std\": 1.1046762511357475,\n        \"min\": 17.151169590643278,\n        \"max\": 21.5,\n        \"num_unique_values\": 23,\n        \"samples\": [\n          17.6,\n          21.2,\n          17.151169590643278\n        ],\n        \"semantic_type\": \"\",\n        \"description\": \"\"\n      }\n    },\n    {\n      \"column\": \"flipper_length_mm\",\n      \"properties\": {\n        \"dtype\": \"number\",\n        \"std\": 5.085480682633809,\n        \"min\": 184.0,\n        \"max\": 208.0,\n        \"num_unique_values\": 18,\n        \"samples\": [\n          200.91520467836258,\n          195.0,\n          191.0\n        ],\n        \"semantic_type\": \"\",\n        \"description\": \"\"\n      }\n    }\n  ]\n}"
            }
          },
          "metadata": {},
          "execution_count": 51
        }
      ],
      "source": [
        "adelie_body = df[(df['species'] == 'Adelie') & (df['body_mass_g'] > 4000)]\n",
        "adelie_body[['bill_length_mm', 'bill_depth_mm', 'flipper_length_mm']]"
      ]
    },
    {
      "cell_type": "markdown",
      "metadata": {
        "id": "zQw5j_jZRMjH"
      },
      "source": [
        "Ex3: Show max index of each category in each species."
      ]
    },
    {
      "cell_type": "code",
      "execution_count": 52,
      "metadata": {
        "colab": {
          "base_uri": "https://localhost:8080/",
          "height": 175
        },
        "id": "PCkLSctkP07s",
        "outputId": "7c58e5f5-e19b-422b-8f2d-15ce3cd8ef27"
      },
      "outputs": [
        {
          "output_type": "execute_result",
          "data": {
            "text/plain": [
              "              island  bill_length_mm  bill_depth_mm  flipper_length_mm  \\\n",
              "species                                                                  \n",
              "Adelie     Torgersen            46.0           21.5              210.0   \n",
              "Chinstrap      Dream            58.0           20.8              212.0   \n",
              "Gentoo        Biscoe            59.6           17.3              231.0   \n",
              "\n",
              "           body_mass_g   sex  \n",
              "species                       \n",
              "Adelie          4775.0  Male  \n",
              "Chinstrap       4800.0  Male  \n",
              "Gentoo          6300.0  Male  "
            ],
            "text/html": [
              "\n",
              "  <div id=\"df-28e269ae-7489-45ba-9c45-aa55b17b2e17\" class=\"colab-df-container\">\n",
              "    <div>\n",
              "<style scoped>\n",
              "    .dataframe tbody tr th:only-of-type {\n",
              "        vertical-align: middle;\n",
              "    }\n",
              "\n",
              "    .dataframe tbody tr th {\n",
              "        vertical-align: top;\n",
              "    }\n",
              "\n",
              "    .dataframe thead th {\n",
              "        text-align: right;\n",
              "    }\n",
              "</style>\n",
              "<table border=\"1\" class=\"dataframe\">\n",
              "  <thead>\n",
              "    <tr style=\"text-align: right;\">\n",
              "      <th></th>\n",
              "      <th>island</th>\n",
              "      <th>bill_length_mm</th>\n",
              "      <th>bill_depth_mm</th>\n",
              "      <th>flipper_length_mm</th>\n",
              "      <th>body_mass_g</th>\n",
              "      <th>sex</th>\n",
              "    </tr>\n",
              "    <tr>\n",
              "      <th>species</th>\n",
              "      <th></th>\n",
              "      <th></th>\n",
              "      <th></th>\n",
              "      <th></th>\n",
              "      <th></th>\n",
              "      <th></th>\n",
              "    </tr>\n",
              "  </thead>\n",
              "  <tbody>\n",
              "    <tr>\n",
              "      <th>Adelie</th>\n",
              "      <td>Torgersen</td>\n",
              "      <td>46.0</td>\n",
              "      <td>21.5</td>\n",
              "      <td>210.0</td>\n",
              "      <td>4775.0</td>\n",
              "      <td>Male</td>\n",
              "    </tr>\n",
              "    <tr>\n",
              "      <th>Chinstrap</th>\n",
              "      <td>Dream</td>\n",
              "      <td>58.0</td>\n",
              "      <td>20.8</td>\n",
              "      <td>212.0</td>\n",
              "      <td>4800.0</td>\n",
              "      <td>Male</td>\n",
              "    </tr>\n",
              "    <tr>\n",
              "      <th>Gentoo</th>\n",
              "      <td>Biscoe</td>\n",
              "      <td>59.6</td>\n",
              "      <td>17.3</td>\n",
              "      <td>231.0</td>\n",
              "      <td>6300.0</td>\n",
              "      <td>Male</td>\n",
              "    </tr>\n",
              "  </tbody>\n",
              "</table>\n",
              "</div>\n",
              "    <div class=\"colab-df-buttons\">\n",
              "\n",
              "  <div class=\"colab-df-container\">\n",
              "    <button class=\"colab-df-convert\" onclick=\"convertToInteractive('df-28e269ae-7489-45ba-9c45-aa55b17b2e17')\"\n",
              "            title=\"Convert this dataframe to an interactive table.\"\n",
              "            style=\"display:none;\">\n",
              "\n",
              "  <svg xmlns=\"http://www.w3.org/2000/svg\" height=\"24px\" viewBox=\"0 -960 960 960\">\n",
              "    <path d=\"M120-120v-720h720v720H120Zm60-500h600v-160H180v160Zm220 220h160v-160H400v160Zm0 220h160v-160H400v160ZM180-400h160v-160H180v160Zm440 0h160v-160H620v160ZM180-180h160v-160H180v160Zm440 0h160v-160H620v160Z\"/>\n",
              "  </svg>\n",
              "    </button>\n",
              "\n",
              "  <style>\n",
              "    .colab-df-container {\n",
              "      display:flex;\n",
              "      gap: 12px;\n",
              "    }\n",
              "\n",
              "    .colab-df-convert {\n",
              "      background-color: #E8F0FE;\n",
              "      border: none;\n",
              "      border-radius: 50%;\n",
              "      cursor: pointer;\n",
              "      display: none;\n",
              "      fill: #1967D2;\n",
              "      height: 32px;\n",
              "      padding: 0 0 0 0;\n",
              "      width: 32px;\n",
              "    }\n",
              "\n",
              "    .colab-df-convert:hover {\n",
              "      background-color: #E2EBFA;\n",
              "      box-shadow: 0px 1px 2px rgba(60, 64, 67, 0.3), 0px 1px 3px 1px rgba(60, 64, 67, 0.15);\n",
              "      fill: #174EA6;\n",
              "    }\n",
              "\n",
              "    .colab-df-buttons div {\n",
              "      margin-bottom: 4px;\n",
              "    }\n",
              "\n",
              "    [theme=dark] .colab-df-convert {\n",
              "      background-color: #3B4455;\n",
              "      fill: #D2E3FC;\n",
              "    }\n",
              "\n",
              "    [theme=dark] .colab-df-convert:hover {\n",
              "      background-color: #434B5C;\n",
              "      box-shadow: 0px 1px 3px 1px rgba(0, 0, 0, 0.15);\n",
              "      filter: drop-shadow(0px 1px 2px rgba(0, 0, 0, 0.3));\n",
              "      fill: #FFFFFF;\n",
              "    }\n",
              "  </style>\n",
              "\n",
              "    <script>\n",
              "      const buttonEl =\n",
              "        document.querySelector('#df-28e269ae-7489-45ba-9c45-aa55b17b2e17 button.colab-df-convert');\n",
              "      buttonEl.style.display =\n",
              "        google.colab.kernel.accessAllowed ? 'block' : 'none';\n",
              "\n",
              "      async function convertToInteractive(key) {\n",
              "        const element = document.querySelector('#df-28e269ae-7489-45ba-9c45-aa55b17b2e17');\n",
              "        const dataTable =\n",
              "          await google.colab.kernel.invokeFunction('convertToInteractive',\n",
              "                                                    [key], {});\n",
              "        if (!dataTable) return;\n",
              "\n",
              "        const docLinkHtml = 'Like what you see? Visit the ' +\n",
              "          '<a target=\"_blank\" href=https://colab.research.google.com/notebooks/data_table.ipynb>data table notebook</a>'\n",
              "          + ' to learn more about interactive tables.';\n",
              "        element.innerHTML = '';\n",
              "        dataTable['output_type'] = 'display_data';\n",
              "        await google.colab.output.renderOutput(dataTable, element);\n",
              "        const docLink = document.createElement('div');\n",
              "        docLink.innerHTML = docLinkHtml;\n",
              "        element.appendChild(docLink);\n",
              "      }\n",
              "    </script>\n",
              "  </div>\n",
              "\n",
              "\n",
              "    <div id=\"df-cf6d567f-c3a9-45d6-a1b7-30bd3b64f054\">\n",
              "      <button class=\"colab-df-quickchart\" onclick=\"quickchart('df-cf6d567f-c3a9-45d6-a1b7-30bd3b64f054')\"\n",
              "                title=\"Suggest charts\"\n",
              "                style=\"display:none;\">\n",
              "\n",
              "<svg xmlns=\"http://www.w3.org/2000/svg\" height=\"24px\"viewBox=\"0 0 24 24\"\n",
              "     width=\"24px\">\n",
              "    <g>\n",
              "        <path d=\"M19 3H5c-1.1 0-2 .9-2 2v14c0 1.1.9 2 2 2h14c1.1 0 2-.9 2-2V5c0-1.1-.9-2-2-2zM9 17H7v-7h2v7zm4 0h-2V7h2v10zm4 0h-2v-4h2v4z\"/>\n",
              "    </g>\n",
              "</svg>\n",
              "      </button>\n",
              "\n",
              "<style>\n",
              "  .colab-df-quickchart {\n",
              "      --bg-color: #E8F0FE;\n",
              "      --fill-color: #1967D2;\n",
              "      --hover-bg-color: #E2EBFA;\n",
              "      --hover-fill-color: #174EA6;\n",
              "      --disabled-fill-color: #AAA;\n",
              "      --disabled-bg-color: #DDD;\n",
              "  }\n",
              "\n",
              "  [theme=dark] .colab-df-quickchart {\n",
              "      --bg-color: #3B4455;\n",
              "      --fill-color: #D2E3FC;\n",
              "      --hover-bg-color: #434B5C;\n",
              "      --hover-fill-color: #FFFFFF;\n",
              "      --disabled-bg-color: #3B4455;\n",
              "      --disabled-fill-color: #666;\n",
              "  }\n",
              "\n",
              "  .colab-df-quickchart {\n",
              "    background-color: var(--bg-color);\n",
              "    border: none;\n",
              "    border-radius: 50%;\n",
              "    cursor: pointer;\n",
              "    display: none;\n",
              "    fill: var(--fill-color);\n",
              "    height: 32px;\n",
              "    padding: 0;\n",
              "    width: 32px;\n",
              "  }\n",
              "\n",
              "  .colab-df-quickchart:hover {\n",
              "    background-color: var(--hover-bg-color);\n",
              "    box-shadow: 0 1px 2px rgba(60, 64, 67, 0.3), 0 1px 3px 1px rgba(60, 64, 67, 0.15);\n",
              "    fill: var(--button-hover-fill-color);\n",
              "  }\n",
              "\n",
              "  .colab-df-quickchart-complete:disabled,\n",
              "  .colab-df-quickchart-complete:disabled:hover {\n",
              "    background-color: var(--disabled-bg-color);\n",
              "    fill: var(--disabled-fill-color);\n",
              "    box-shadow: none;\n",
              "  }\n",
              "\n",
              "  .colab-df-spinner {\n",
              "    border: 2px solid var(--fill-color);\n",
              "    border-color: transparent;\n",
              "    border-bottom-color: var(--fill-color);\n",
              "    animation:\n",
              "      spin 1s steps(1) infinite;\n",
              "  }\n",
              "\n",
              "  @keyframes spin {\n",
              "    0% {\n",
              "      border-color: transparent;\n",
              "      border-bottom-color: var(--fill-color);\n",
              "      border-left-color: var(--fill-color);\n",
              "    }\n",
              "    20% {\n",
              "      border-color: transparent;\n",
              "      border-left-color: var(--fill-color);\n",
              "      border-top-color: var(--fill-color);\n",
              "    }\n",
              "    30% {\n",
              "      border-color: transparent;\n",
              "      border-left-color: var(--fill-color);\n",
              "      border-top-color: var(--fill-color);\n",
              "      border-right-color: var(--fill-color);\n",
              "    }\n",
              "    40% {\n",
              "      border-color: transparent;\n",
              "      border-right-color: var(--fill-color);\n",
              "      border-top-color: var(--fill-color);\n",
              "    }\n",
              "    60% {\n",
              "      border-color: transparent;\n",
              "      border-right-color: var(--fill-color);\n",
              "    }\n",
              "    80% {\n",
              "      border-color: transparent;\n",
              "      border-right-color: var(--fill-color);\n",
              "      border-bottom-color: var(--fill-color);\n",
              "    }\n",
              "    90% {\n",
              "      border-color: transparent;\n",
              "      border-bottom-color: var(--fill-color);\n",
              "    }\n",
              "  }\n",
              "</style>\n",
              "\n",
              "      <script>\n",
              "        async function quickchart(key) {\n",
              "          const quickchartButtonEl =\n",
              "            document.querySelector('#' + key + ' button');\n",
              "          quickchartButtonEl.disabled = true;  // To prevent multiple clicks.\n",
              "          quickchartButtonEl.classList.add('colab-df-spinner');\n",
              "          try {\n",
              "            const charts = await google.colab.kernel.invokeFunction(\n",
              "                'suggestCharts', [key], {});\n",
              "          } catch (error) {\n",
              "            console.error('Error during call to suggestCharts:', error);\n",
              "          }\n",
              "          quickchartButtonEl.classList.remove('colab-df-spinner');\n",
              "          quickchartButtonEl.classList.add('colab-df-quickchart-complete');\n",
              "        }\n",
              "        (() => {\n",
              "          let quickchartButtonEl =\n",
              "            document.querySelector('#df-cf6d567f-c3a9-45d6-a1b7-30bd3b64f054 button');\n",
              "          quickchartButtonEl.style.display =\n",
              "            google.colab.kernel.accessAllowed ? 'block' : 'none';\n",
              "        })();\n",
              "      </script>\n",
              "    </div>\n",
              "\n",
              "    </div>\n",
              "  </div>\n"
            ],
            "application/vnd.google.colaboratory.intrinsic+json": {
              "type": "dataframe",
              "summary": "{\n  \"name\": \"df\",\n  \"rows\": 3,\n  \"fields\": [\n    {\n      \"column\": \"species\",\n      \"properties\": {\n        \"dtype\": \"string\",\n        \"num_unique_values\": 3,\n        \"samples\": [\n          \"Adelie\",\n          \"Chinstrap\",\n          \"Gentoo\"\n        ],\n        \"semantic_type\": \"\",\n        \"description\": \"\"\n      }\n    },\n    {\n      \"column\": \"island\",\n      \"properties\": {\n        \"dtype\": \"string\",\n        \"num_unique_values\": 3,\n        \"samples\": [\n          \"Torgersen\",\n          \"Dream\",\n          \"Biscoe\"\n        ],\n        \"semantic_type\": \"\",\n        \"description\": \"\"\n      }\n    },\n    {\n      \"column\": \"bill_length_mm\",\n      \"properties\": {\n        \"dtype\": \"number\",\n        \"std\": 7.433258594542056,\n        \"min\": 46.0,\n        \"max\": 59.6,\n        \"num_unique_values\": 3,\n        \"samples\": [\n          46.0,\n          58.0,\n          59.6\n        ],\n        \"semantic_type\": \"\",\n        \"description\": \"\"\n      }\n    },\n    {\n      \"column\": \"bill_depth_mm\",\n      \"properties\": {\n        \"dtype\": \"number\",\n        \"std\": 2.250185177565023,\n        \"min\": 17.3,\n        \"max\": 21.5,\n        \"num_unique_values\": 3,\n        \"samples\": [\n          21.5,\n          20.8,\n          17.3\n        ],\n        \"semantic_type\": \"\",\n        \"description\": \"\"\n      }\n    },\n    {\n      \"column\": \"flipper_length_mm\",\n      \"properties\": {\n        \"dtype\": \"number\",\n        \"std\": 11.590225767142472,\n        \"min\": 210.0,\n        \"max\": 231.0,\n        \"num_unique_values\": 3,\n        \"samples\": [\n          210.0,\n          212.0,\n          231.0\n        ],\n        \"semantic_type\": \"\",\n        \"description\": \"\"\n      }\n    },\n    {\n      \"column\": \"body_mass_g\",\n      \"properties\": {\n        \"dtype\": \"number\",\n        \"std\": 873.3317430010966,\n        \"min\": 4775.0,\n        \"max\": 6300.0,\n        \"num_unique_values\": 3,\n        \"samples\": [\n          4775.0,\n          4800.0,\n          6300.0\n        ],\n        \"semantic_type\": \"\",\n        \"description\": \"\"\n      }\n    },\n    {\n      \"column\": \"sex\",\n      \"properties\": {\n        \"dtype\": \"category\",\n        \"num_unique_values\": 1,\n        \"samples\": [\n          \"Male\"\n        ],\n        \"semantic_type\": \"\",\n        \"description\": \"\"\n      }\n    }\n  ]\n}"
            }
          },
          "metadata": {},
          "execution_count": 52
        }
      ],
      "source": [
        "df.groupby(['species']).max()"
      ]
    },
    {
      "cell_type": "markdown",
      "metadata": {
        "id": "517K_wghRywa"
      },
      "source": [
        "Ex4: Show average body_mass_g of female penguins."
      ]
    },
    {
      "cell_type": "code",
      "execution_count": 53,
      "metadata": {
        "colab": {
          "base_uri": "https://localhost:8080/"
        },
        "id": "fbvCwZHUSLxK",
        "outputId": "54401d98-631a-420c-ed40-c35b5b0e1a83"
      },
      "outputs": [
        {
          "output_type": "stream",
          "name": "stdout",
          "text": [
            "3862.2727272727275\n"
          ]
        }
      ],
      "source": [
        "female_body_mass_avg = df[df['sex'] == 'Female']['body_mass_g'].mean()\n",
        "print(female_body_mass_avg)"
      ]
    },
    {
      "cell_type": "markdown",
      "metadata": {
        "id": "cxf2do5ZAbwE"
      },
      "source": [
        "Ex5: Find which species has the largest average bill length."
      ]
    },
    {
      "cell_type": "code",
      "execution_count": 54,
      "metadata": {
        "colab": {
          "base_uri": "https://localhost:8080/"
        },
        "id": "n18PRQfUAd6k",
        "outputId": "36fb5d06-9f5b-4bef-dff9-ca40e83ee441"
      },
      "outputs": [
        {
          "output_type": "stream",
          "name": "stdout",
          "text": [
            "Chinstrap has the largest average bill length\n"
          ]
        }
      ],
      "source": [
        "avg_bill_length = df.groupby('species')['bill_length_mm'].mean()\n",
        "spec_avg_bill_length = avg_bill_length.idxmax()\n",
        "print(f\"{spec_avg_bill_length} has the largest average bill length\")"
      ]
    },
    {
      "cell_type": "markdown",
      "metadata": {
        "id": "cHqRewHjApqV"
      },
      "source": [
        "Ex6: Find the top 5 heaviest penguins."
      ]
    },
    {
      "cell_type": "code",
      "execution_count": 55,
      "metadata": {
        "colab": {
          "base_uri": "https://localhost:8080/"
        },
        "id": "CUxMGiRcArPt",
        "outputId": "9c5468a1-ca11-41f1-9e59-160b20525f0a"
      },
      "outputs": [
        {
          "output_type": "stream",
          "name": "stdout",
          "text": [
            "    species  body_mass_g\n",
            "237  Gentoo       6300.0\n",
            "253  Gentoo       6050.0\n",
            "297  Gentoo       6000.0\n",
            "337  Gentoo       6000.0\n",
            "299  Gentoo       5950.0\n"
          ]
        }
      ],
      "source": [
        "top_5_heaviest = df.nlargest(5, 'body_mass_g')\n",
        "print(top_5_heaviest[['species', 'body_mass_g']])"
      ]
    },
    {
      "cell_type": "markdown",
      "metadata": {
        "id": "KNgWhItrfk42"
      },
      "source": [
        "# VISUALIZATION"
      ]
    },
    {
      "cell_type": "markdown",
      "metadata": {
        "id": "QVzg1BOESdyN"
      },
      "source": [
        "To visualize the data, we usually use 2 python libraries:\n",
        "1. **Matplotlib:**\n",
        "  * Used for creating static, animated and interactive plots.\n",
        "  * Offering a variety of plotting functionalities: Bar Chart, Line Chart, Pie Chart, Bubble Chart, Radar Chart, ScatterPlot, Histogram, Heatmap, BoxPlot, Tree Map, Network Diagram...\n",
        "    * Customizing plots with labels, titles, legends and color schemes.\n",
        "    * Adjusting figure size, layout and aspect ratios.\n",
        "\n",
        "2. **Seaborn:**\n",
        "  * Built on top of Matplotlib and provides beautiful default styles and color palettes to make statistical plots more attractive."
      ]
    },
    {
      "cell_type": "code",
      "execution_count": 56,
      "metadata": {
        "colab": {
          "base_uri": "https://localhost:8080/",
          "height": 564
        },
        "id": "FotX4r01fojm",
        "outputId": "51796750-b274-4991-f4d7-4bf8c86a7bd5"
      },
      "outputs": [
        {
          "output_type": "display_data",
          "data": {
            "text/plain": [
              "<Figure size 800x600 with 1 Axes>"
            ],
            "image/png": "[encoded data removed]"
          },
          "metadata": {}
        }
      ],
      "source": [
        "## line chart\n",
        "plt.figure(figsize=(8,6))\n",
        "sns.lineplot(data=penguins, x=\"bill_length_mm\", y=\"bill_depth_mm\", hue=\"species\")\n",
        "plt.title(\"Line Chart: Bill Length vs Bill Depth\")\n",
        "plt.show()"
      ]
    },
    {
      "cell_type": "code",
      "execution_count": 57,
      "metadata": {
        "colab": {
          "base_uri": "https://localhost:8080/",
          "height": 564
        },
        "id": "Tjddtp_sgBbK",
        "outputId": "254b403c-dc59-4ddc-f22e-79de01aa1f61"
      },
      "outputs": [
        {
          "output_type": "display_data",
          "data": {
            "text/plain": [
              "<Figure size 800x600 with 1 Axes>"
            ],
            "image/png": "[encoded data removed]"
          },
          "metadata": {}
        }
      ],
      "source": [
        "## bar chart\n",
        "plt.figure(figsize=(8,6))\n",
        "sns.barplot(data=penguins, x=\"species\", y=\"body_mass_g\", hue='species')\n",
        "plt.title(\"Bar Chart: Body Mass by Species\")\n",
        "plt.show()"
      ]
    },
    {
      "cell_type": "code",
      "execution_count": 58,
      "metadata": {
        "colab": {
          "base_uri": "https://localhost:8080/",
          "height": 564
        },
        "id": "VaikQGNIgEm7",
        "outputId": "1dd81744-9d41-4686-e7be-4b608e28dbbf"
      },
      "outputs": [
        {
          "output_type": "display_data",
          "data": {
            "text/plain": [
              "<Figure size 800x600 with 1 Axes>"
            ],
            "image/png": "[encoded data removed]"
          },
          "metadata": {}
        }
      ],
      "source": [
        "## Histogram\n",
        "plt.figure(figsize=(8,6))\n",
        "sns.histplot(data=penguins, x=\"body_mass_g\", hue=\"species\", kde=True)\n",
        "plt.title(\"Histogram: Body Mass by Species\")\n",
        "plt.show()"
      ]
    },
    {
      "cell_type": "code",
      "execution_count": 59,
      "metadata": {
        "colab": {
          "base_uri": "https://localhost:8080/",
          "height": 564
        },
        "id": "FWSsC1TDjEBa",
        "outputId": "b28e9ece-6341-4d93-cd85-13e3ec9aea89"
      },
      "outputs": [
        {
          "output_type": "display_data",
          "data": {
            "text/plain": [
              "<Figure size 800x600 with 1 Axes>"
            ],
            "image/png": "[encoded data removed]"
          },
          "metadata": {}
        }
      ],
      "source": [
        "## ScatterPlot\n",
        "plt.figure(figsize=(8,6))\n",
        "sns.scatterplot(data=penguins, x=\"bill_length_mm\", y=\"bill_depth_mm\", hue=\"species\", style=\"sex\")\n",
        "plt.title(\"Scatterplot - Bill Length vs Bill Depth\")\n",
        "plt.show()"
      ]
    },
    {
      "cell_type": "code",
      "execution_count": 60,
      "metadata": {
        "colab": {
          "base_uri": "https://localhost:8080/",
          "height": 521
        },
        "id": "8pOhTEKzTcCY",
        "outputId": "c2a6b721-eacf-4bbf-c67b-aaccbe45f64e"
      },
      "outputs": [
        {
          "output_type": "display_data",
          "data": {
            "text/plain": [
              "<Figure size 800x600 with 1 Axes>"
            ],
            "image/png": "[encoded data removed]"
          },
          "metadata": {}
        }
      ],
      "source": [
        "## Pie Chart\n",
        "plt.figure(figsize=(8,6))\n",
        "plt.pie(penguins['species'].value_counts(), labels=penguins['species'].unique(), autopct='%1.1f%%')   # Seaborns doesn't have a built-in function for creating pie charts directly\n",
        "plt.title(\"Pie Chart: Species Distribution\")\n",
        "plt.show()"
      ]
    },
    {
      "cell_type": "markdown",
      "metadata": {
        "id": "nbOYmuoWvk0P"
      },
      "source": [
        "# NUMPY PRACTICE"
      ]
    },
    {
      "cell_type": "markdown",
      "metadata": {
        "id": "E-EBeVXaglSx"
      },
      "source": [
        "## Getting started"
      ]
    },
    {
      "cell_type": "code",
      "execution_count": 61,
      "metadata": {
        "colab": {
          "base_uri": "https://localhost:8080/"
        },
        "id": "Y8WTgqd1Zd8d",
        "outputId": "2460504c-9cdc-4147-dfd6-13a8c08352fa"
      },
      "outputs": [
        {
          "output_type": "stream",
          "name": "stdout",
          "text": [
            "a list: [1, 2, 3, 4, 5, 6, 7, 8, 9, 10] - type: <class 'list'>\n",
            "a numpy array: [ 1  2  3  4  5  6  7  8  9 10] - type: <class 'numpy.ndarray'>\n"
          ]
        }
      ],
      "source": [
        "ls = [1, 2, 3, 4, 5, 6 ,7 , 8, 9, 10]\n",
        "arr1 = np.array(ls)\n",
        "\n",
        "# Check the diff between a list and a numpy array\n",
        "print(f'a list: {ls} - type: {type(ls)}')\n",
        "print(f'a numpy array: {arr1} - type: {type(arr1)}')"
      ]
    },
    {
      "cell_type": "code",
      "execution_count": 62,
      "metadata": {
        "colab": {
          "base_uri": "https://localhost:8080/"
        },
        "id": "UaXObwCScJwv",
        "outputId": "5775cc30-358b-41a4-e410-63f1757f5053"
      },
      "outputs": [
        {
          "output_type": "stream",
          "name": "stdout",
          "text": [
            "[[1 2 3]\n",
            " [4 5 6]\n",
            " [7 8 9]]\n",
            "dim = 2 - shape: (3, 3) - datatype: int64\n"
          ]
        }
      ],
      "source": [
        "arr2 = np.array([[1, 2, 3], [4, 5, 6], [7, 8, 9]])\n",
        "\n",
        "# Check dimension (dim), shape & datatype\n",
        "print(arr2)\n",
        "print(f'dim = {arr2.ndim} - shape: {arr2.shape} - datatype: {arr2.dtype}')"
      ]
    },
    {
      "cell_type": "code",
      "execution_count": 63,
      "metadata": {
        "colab": {
          "base_uri": "https://localhost:8080/"
        },
        "id": "nM9NLSpkeXK3",
        "outputId": "2e976c45-f6b2-48eb-9c00-c6ad300384e8"
      },
      "outputs": [
        {
          "output_type": "stream",
          "name": "stdout",
          "text": [
            "[[0. 0. 0. 0. 0.]\n",
            " [0. 0. 0. 0. 0.]\n",
            " [0. 0. 0. 0. 0.]]\n",
            "\n",
            "[[1. 1. 1.]\n",
            " [1. 1. 1.]\n",
            " [1. 1. 1.]]\n"
          ]
        }
      ],
      "source": [
        "zeros = np.zeros((3,5))  # Create a 3x5 matrix filled with 0\n",
        "ones = np.ones((3,3))    # Create a 3x3 matrix filled with 1\n",
        "print(zeros)\n",
        "print('')\n",
        "print(ones)"
      ]
    },
    {
      "cell_type": "markdown",
      "metadata": {
        "id": "Fbnc2ZIqe9Jf"
      },
      "source": [
        "## Index & Slicing\n",
        "!!! always starts from 0"
      ]
    },
    {
      "cell_type": "code",
      "metadata": {
        "colab": {
          "base_uri": "https://localhost:8080/"
        },
        "id": "23a33ba8",
        "outputId": "f7bd3fd0-fed6-496b-ca11-8d85975146e0"
      },
      "source": [
        "arr = np.arange(1, 11)\n",
        "arr_2d = np.array([[1, 2, 3], [4, 5, 6], [7, 8, 9]])\n",
        "\n",
        "print(arr)\n",
        "print(arr_2d)"
      ],
      "execution_count": 64,
      "outputs": [
        {
          "output_type": "stream",
          "name": "stdout",
          "text": [
            "[ 1  2  3  4  5  6  7  8  9 10]\n",
            "[[1 2 3]\n",
            " [4 5 6]\n",
            " [7 8 9]]\n"
          ]
        }
      ]
    },
    {
      "cell_type": "code",
      "source": [
        "# Indexing 1D arrays\n",
        "print(arr[5])\n",
        "print(arr[0])\n",
        "print(arr[-1])"
      ],
      "metadata": {
        "colab": {
          "base_uri": "https://localhost:8080/"
        },
        "id": "tjM_0tm7oWiw",
        "outputId": "e7d8e332-1217-425a-f452-13335bd99d67"
      },
      "execution_count": 65,
      "outputs": [
        {
          "output_type": "stream",
          "name": "stdout",
          "text": [
            "6\n",
            "1\n",
            "10\n"
          ]
        }
      ]
    },
    {
      "cell_type": "code",
      "source": [
        "# Slicing 1D arrays\n",
        "print(arr[2:8])\n",
        "print(arr[:6])\n",
        "print(arr[5:])\n",
        "print(arr[::2])\n",
        "print(arr[::-1])      # reversed"
      ],
      "metadata": {
        "colab": {
          "base_uri": "https://localhost:8080/"
        },
        "id": "U6mA3A4Toa9x",
        "outputId": "dea8c8f6-49c1-4174-a9d0-ffcb21adbf64"
      },
      "execution_count": 66,
      "outputs": [
        {
          "output_type": "stream",
          "name": "stdout",
          "text": [
            "[3 4 5 6 7 8]\n",
            "[1 2 3 4 5 6]\n",
            "[ 6  7  8  9 10]\n",
            "[1 3 5 7 9]\n",
            "[10  9  8  7  6  5  4  3  2  1]\n"
          ]
        }
      ]
    },
    {
      "cell_type": "code",
      "source": [
        "# Indexing 2D arrays\n",
        "print(arr_2d[1, 2])   #\n",
        "print(arr_2d[0])      # first row\n",
        "print(arr_2d[:, 0])   # first column"
      ],
      "metadata": {
        "colab": {
          "base_uri": "https://localhost:8080/"
        },
        "id": "TD4n3N3Fol0q",
        "outputId": "b53fe1bb-4ad6-4e08-b3f8-fe984a90a81e"
      },
      "execution_count": 67,
      "outputs": [
        {
          "output_type": "stream",
          "name": "stdout",
          "text": [
            "6\n",
            "[1 2 3]\n",
            "[1 4 7]\n"
          ]
        }
      ]
    },
    {
      "cell_type": "code",
      "source": [
        "# Slicing 2D arrays\n",
        "print(arr_2d[:2])     # First two rows\n",
        "print(arr_2d[:, -2:]) # Last two columns\n",
        "print(arr_2d[:2, 1:]) # Sub-matrix (rows 0-1, columns 1-2)"
      ],
      "metadata": {
        "colab": {
          "base_uri": "https://localhost:8080/"
        },
        "id": "ufDhc9pGowVa",
        "outputId": "dcddf734-1114-47f0-8374-e62495feb270"
      },
      "execution_count": 68,
      "outputs": [
        {
          "output_type": "stream",
          "name": "stdout",
          "text": [
            "[[1 2 3]\n",
            " [4 5 6]]\n",
            "[[2 3]\n",
            " [5 6]\n",
            " [8 9]]\n",
            "[[2 3]\n",
            " [5 6]]\n"
          ]
        }
      ]
    },
    {
      "cell_type": "markdown",
      "metadata": {
        "id": "BTANGVejtpSG"
      },
      "source": [
        "## Reshape, Resize & Flatten"
      ]
    },
    {
      "cell_type": "code",
      "execution_count": 69,
      "metadata": {
        "colab": {
          "base_uri": "https://localhost:8080/"
        },
        "id": "x3pLlLJQlGE6",
        "outputId": "a7712eb9-b958-4c5d-806a-86fd42f2e0fe"
      },
      "outputs": [
        {
          "output_type": "stream",
          "name": "stdout",
          "text": [
            "Origin array: \n",
            "[ 1  2  3  4  5  6  7  8  9 10 11 12 13 14 15 16 17 18 19 20]\n",
            "\n",
            "Reshape: \n",
            "[[ 1  2  3  4  5  6  7  8  9 10]\n",
            " [11 12 13 14 15 16 17 18 19 20]]\n",
            "\n",
            "Reshape (with -1): \n",
            "[[ 1  2  3  4]\n",
            " [ 5  6  7  8]\n",
            " [ 9 10 11 12]\n",
            " [13 14 15 16]\n",
            " [17 18 19 20]]\n",
            "\n"
          ]
        }
      ],
      "source": [
        "## Reshape an array\n",
        "arr3 = np.arange(1, 21)\n",
        "print(f'Origin array: \\n{arr3}\\n')\n",
        "\n",
        "arr4 = arr3.reshape(2, 10)   # conditions: total elements of the new & old matrix must be the same\n",
        "print(f'Reshape: \\n{arr4}\\n')\n",
        "\n",
        "# or use -1 to let NumPy automatically calculate the size of that dimension\n",
        "arr4 = np.reshape(arr3, (5, -1))\n",
        "print(f'Reshape (with -1): \\n{arr4}\\n')"
      ]
    },
    {
      "cell_type": "code",
      "execution_count": 70,
      "metadata": {
        "colab": {
          "base_uri": "https://localhost:8080/"
        },
        "id": "cXsMolKkuSxb",
        "outputId": "e581d37c-aeaa-4834-c6a1-5c5a0ddb6af8"
      },
      "outputs": [
        {
          "output_type": "stream",
          "name": "stdout",
          "text": [
            "Original array:\n",
            "[1 2 3 4 5]\n",
            "\n",
            "Resized array (larger - return new arr):\n",
            "[[1 2 3]\n",
            " [4 5 1]\n",
            " [2 3 4]\n",
            " [5 1 2]]\n",
            "\n",
            "Resized array (larger - inplace): \n",
            "None\n",
            "\n",
            "Resized array (smaller):\n",
            "[[1 2 3]\n",
            " [4 5 0]]\n",
            "\n"
          ]
        }
      ],
      "source": [
        "## Resize: change the total number of elements.\n",
        "# if the new size is larger than the original, it repeats the elements until it's full.\n",
        "# if the new size is smaller, elements are truncated.\n",
        "\n",
        "arr5 = np.array([1, 2, 3, 4, 5])\n",
        "print(f'Original array:\\n{arr5}\\n')\n",
        "\n",
        "arr_resized1 = np.resize(arr5, (4, 3))\n",
        "print(f'Resized array (larger - return new arr):\\n{arr_resized1}\\n')\n",
        "print(f'Resized array (larger - inplace): \\n{arr5.resize(4, 3)}\\n')\n",
        "\n",
        "arr_resized2 = np.resize(arr5, (2, 3))\n",
        "print(f'Resized array (smaller):\\n{arr_resized2}\\n')"
      ]
    },
    {
      "cell_type": "code",
      "execution_count": 71,
      "metadata": {
        "colab": {
          "base_uri": "https://localhost:8080/"
        },
        "id": "aCEnACxhpjmY",
        "outputId": "314a693c-13ae-4490-cf5f-4277796fae3f"
      },
      "outputs": [
        {
          "output_type": "stream",
          "name": "stdout",
          "text": [
            "[ 1  2  3  4  5  6  7  8  9 10 11 12 13 14 15 16 17 18 19 20]\n"
          ]
        }
      ],
      "source": [
        "## Flatten an array: converts any multi-dimensional NumPy array into a 1D array\n",
        "arr5 = arr4.flatten()\n",
        "print(arr5)"
      ]
    },
    {
      "cell_type": "markdown",
      "metadata": {
        "id": "_TActBfpgdeQ"
      },
      "source": [
        "## Random module"
      ]
    },
    {
      "cell_type": "code",
      "execution_count": 72,
      "metadata": {
        "colab": {
          "base_uri": "https://localhost:8080/"
        },
        "id": "sLuOVJSng_vn",
        "outputId": "a19b7343-be3f-4e48-91b1-2ce9e83d00f0"
      },
      "outputs": [
        {
          "output_type": "stream",
          "name": "stdout",
          "text": [
            "uniform rand: [0.75940571 0.63675051 0.96960341 0.86544594 0.63989189]\n",
            "standard normal distribution rand: [-0.12007782 -0.06212597 -0.5624278   0.39633708 -0.35291786]\n",
            "interger rand: [ 1  1  1  9 14]\n",
            "sequence: [0 2 4 6 8]\n",
            "linspace: [ 1.  2.  3.  4.  5.  6.  7.  8.  9. 10.]\n"
          ]
        }
      ],
      "source": [
        "## Basic random generators\n",
        "# generates uniform random floats between 0 and 1:\n",
        "print(f'uniform rand: {np.random.rand(5)}')      # or np.random.random() to use tuple. Ex: np.random.random((2, 5))\n",
        "\n",
        "# generates random numbers from a standard normal distribution (mean = 0, std = 1):\n",
        "print(f'standard normal distribution rand: {np.random.randn(5)}')\n",
        "\n",
        "# generates random intergers:\n",
        "# np.random.randint(<low>, <high>, size=None); np shall generate numbers from <low> to <high>-1\n",
        "print(f'interger rand: {np.random.randint(0, 15, size=(5))}')\n",
        "\n",
        "# generates a sequence\n",
        "print(f'sequence: {np.arange(0, 10, 2)}')       # using np.arange(start, stop, step)\n",
        "print(f'linspace: {np.linspace(1, 10, 10)}')    # using np.linspace(star, stop, <num>); divided the range\n",
        "                                                # from start to stop into <num> equally spaced values."
      ]
    },
    {
      "cell_type": "markdown",
      "metadata": {
        "id": "_1YX7piiqVaR"
      },
      "source": [
        "## Mathematical Operations\n",
        "This section shall include Arithmetic operations, Aggregation Functions (sum, mean, max, min) & Mathematic functions\n",
        "## 1. Arithemetic Operations:\n",
        "\n"
      ]
    },
    {
      "cell_type": "code",
      "execution_count": 73,
      "metadata": {
        "colab": {
          "base_uri": "https://localhost:8080/"
        },
        "id": "eKhScJTgqat3",
        "outputId": "16a60c3a-81b0-486f-bd26-9ee160767cdc"
      },
      "outputs": [
        {
          "output_type": "stream",
          "name": "stdout",
          "text": [
            "Addition: \n",
            "[ 1  2  3  4  5  6  7  8  9 10 11]\n",
            "\n",
            "Subtraction: \n",
            "[-1  0  1  2  3  4  5  6  7  8  9]\n",
            "\n",
            "Multiplication: \n",
            "[ 0  2  4  6  8 10 12 14 16 18 20]\n",
            "\n",
            "Division: \n",
            "[0.  0.5 1.  1.5 2.  2.5 3.  3.5 4.  4.5 5. ]\n",
            "\n",
            "Exponent (power): \n",
            "[  0   1   4   9  16  25  36  49  64  81 100]\n",
            "\n"
          ]
        }
      ],
      "source": [
        "arr = np.arange(0, 11)\n",
        "\n",
        "# with a constant\n",
        "print(f'Addition: \\n{arr + 1}\\n')\n",
        "print(f'Subtraction: \\n{arr - 1}\\n')\n",
        "print(f'Multiplication: \\n{arr * 2}\\n')\n",
        "print(f'Division: \\n{arr / 2}\\n')     # same with %\n",
        "print(f'Exponent (power): \\n{arr ** 2}\\n')"
      ]
    },
    {
      "cell_type": "code",
      "execution_count": 74,
      "metadata": {
        "colab": {
          "base_uri": "https://localhost:8080/"
        },
        "id": "KiP5LOc48Tjv",
        "outputId": "a7177cd5-b064-41f3-c0b0-1e6bee421b5b"
      },
      "outputs": [
        {
          "output_type": "stream",
          "name": "stdout",
          "text": [
            "Addition: \n",
            "[ 10  16 102  33  11  16  27  16  41  23  35]\n",
            "[ 10  16 102  33  11  16  27  16  41  23  35]\n",
            "\n",
            "Subtraction: \n",
            "[-10 -14 -98 -27  -3  -6 -15  -2 -25  -5 -15]\n",
            "[-10 -14 -98 -27  -3  -6 -15  -2 -25  -5 -15]\n",
            "\n",
            "Multiplication: \n",
            "[  0  15 200  90  28  55 126  63 264 126 250]\n",
            "[  0  15 200  90  28  55 126  63 264 126 250]\n",
            "\n",
            "Division: \n",
            "[0.         0.06666667 0.02       0.1        0.57142857 0.45454545\n",
            " 0.28571429 0.77777778 0.24242424 0.64285714 0.4       ]\n",
            "[0.         0.06666667 0.02       0.1        0.57142857 0.45454545\n",
            " 0.28571429 0.77777778 0.24242424 0.64285714 0.4       ]\n",
            "\n",
            "Modulus: \n",
            "[ 0  1  2  3  4  5  6  7  8  9 10]\n",
            "[ 0  1  2  3  4  5  6  7  8  9 10]\n",
            "\n",
            "Exponent (power): \n",
            "[                  0                   1                   0\n",
            "     205891132094649               16384            48828125\n",
            "   21936950640377856            40353607                   0\n",
            "      22876792454961 1590897978359414784]\n",
            "[                  0                   1                   0\n",
            "     205891132094649               16384            48828125\n",
            "   21936950640377856            40353607                   0\n",
            "      22876792454961 1590897978359414784]\n",
            "\n"
          ]
        }
      ],
      "source": [
        "arr1 = np.arange(0, 11)\n",
        "arr2 = np.array([10, 15, 100, 30, 7, 11, 21, 9, 33, 14, 25])\n",
        "\n",
        "# with other arrays\n",
        "print(f'Addition: \\n{arr1 + arr2}')\n",
        "add = np.add(arr1, arr2)\n",
        "print(f'{add}\\n')\n",
        "\n",
        "print(f'Subtraction: \\n{arr1 - arr2}')\n",
        "sub = np.subtract(arr1, arr2)\n",
        "print(f'{sub}\\n')\n",
        "\n",
        "print(f'Multiplication: \\n{arr1 * arr2}')     # for this arithmetic operation, each element in\n",
        "mul = np.multiply(arr1, arr2)                 # arr1 is multiplied by the element in the same position in arr2.\n",
        "print(f'{mul}\\n')\n",
        "\n",
        "print(f'Division: \\n{arr1 / arr2}')\n",
        "div = np.divide(arr1, arr2)\n",
        "print(f'{div}\\n')\n",
        "\n",
        "print(f'Modulus: \\n{arr1 % arr2}')\n",
        "mod = np.mod(arr1, arr2)\n",
        "print(f'{mod}\\n')\n",
        "\n",
        "print(f'Exponent (power): \\n{arr1 ** arr2}')\n",
        "exp = np.power(arr1, arr2 )\n",
        "print(f'{exp}\\n')"
      ]
    },
    {
      "cell_type": "markdown",
      "metadata": {
        "id": "a7xkdW8QfVEu"
      },
      "source": [
        "## 2. Aggregation Functions (sum, mean, max, min)"
      ]
    },
    {
      "cell_type": "code",
      "source": [
        "arr = np.array([1, 2, 3, 4, 5, 6, 7, 8, 9, 10])\n",
        "arr_2d = np.array([[1, 2, 3], [4, 5, 6], [7, 8, 9]])\n",
        "arr_3d = np.array([\n",
        "    [[1, 2], [3, 4]],\n",
        "    [[5, 6], [7, 8]]\n",
        "    ])"
      ],
      "metadata": {
        "id": "XVtLHaXHs_Nu"
      },
      "execution_count": 75,
      "outputs": []
    },
    {
      "cell_type": "code",
      "source": [
        "# Sum\n",
        "print(np.sum(arr))                # sum of elements\n",
        "print(np.sum(arr_2d))\n",
        "print(np.sum(arr_2d, axis=0))     # sum of elements along columns\n",
        "print(np.sum(arr_2d, axis=1))     # sum of elements along rows\n",
        "\n",
        "print(np.sum(arr_3d, axis=0))     # sum of layers by columns (?)\n",
        "print(np.sum(arr_3d, axis=1))     # sum of layers by rows (?)\n",
        "print(np.sum(arr_3d, axis=2))     # sum of elements in each matrix"
      ],
      "metadata": {
        "colab": {
          "base_uri": "https://localhost:8080/"
        },
        "id": "MQWOljNWtapx",
        "outputId": "ee580cd9-00d7-4380-a43d-cfdee733fd73"
      },
      "execution_count": 76,
      "outputs": [
        {
          "output_type": "stream",
          "name": "stdout",
          "text": [
            "55\n",
            "45\n",
            "[12 15 18]\n",
            "[ 6 15 24]\n",
            "[[ 6  8]\n",
            " [10 12]]\n",
            "[[ 4  6]\n",
            " [12 14]]\n",
            "[[ 3  7]\n",
            " [11 15]]\n"
          ]
        }
      ]
    },
    {
      "cell_type": "code",
      "source": [
        "# Mean (average)\n",
        "print(np.mean(arr))\n",
        "print(np.mean(arr_2d))\n",
        "print(np.mean(arr_2d, axis=0))\n",
        "print(np.mean(arr_2d, axis=1))"
      ],
      "metadata": {
        "id": "eqzOb5xktfG5",
        "colab": {
          "base_uri": "https://localhost:8080/"
        },
        "outputId": "3825fd72-4d00-4f03-d490-22be0543cf76"
      },
      "execution_count": 77,
      "outputs": [
        {
          "output_type": "stream",
          "name": "stdout",
          "text": [
            "5.5\n",
            "5.0\n",
            "[4. 5. 6.]\n",
            "[2. 5. 8.]\n"
          ]
        }
      ]
    },
    {
      "cell_type": "code",
      "source": [
        "# Max\n",
        "print(np.max(arr))\n",
        "print(np.max(arr_2d))\n",
        "print(np.max(arr_2d, axis=0))\n",
        "print(np.max(arr_2d, axis=1))"
      ],
      "metadata": {
        "id": "hflSSU9otfpi",
        "colab": {
          "base_uri": "https://localhost:8080/"
        },
        "outputId": "c090b175-64e5-44f8-91ac-a08be09b37af"
      },
      "execution_count": 78,
      "outputs": [
        {
          "output_type": "stream",
          "name": "stdout",
          "text": [
            "10\n",
            "9\n",
            "[7 8 9]\n",
            "[3 6 9]\n"
          ]
        }
      ]
    },
    {
      "cell_type": "code",
      "source": [
        "# Min\n",
        "print(np.min(arr))\n",
        "print(np.min(arr_2d))\n",
        "print(np.min(arr_2d, axis=0))\n",
        "print(np.min(arr_2d, axis=1))"
      ],
      "metadata": {
        "id": "N-0iSr6PtgTc",
        "colab": {
          "base_uri": "https://localhost:8080/"
        },
        "outputId": "582c6e16-1dd3-479a-d174-fc1478cc3e38"
      },
      "execution_count": 79,
      "outputs": [
        {
          "output_type": "stream",
          "name": "stdout",
          "text": [
            "1\n",
            "1\n",
            "[1 2 3]\n",
            "[1 4 7]\n"
          ]
        }
      ]
    },
    {
      "cell_type": "markdown",
      "metadata": {
        "id": "VdOQrqzcdJuC"
      },
      "source": [
        "## 3. Mathematic Functions\n",
        "\n",
        "- Trigonometric Functions: NumPy fully supports the fundamental trigonometric functions.\n",
        "Angles are typically calculated in **radians**.\n",
        "\n",
        "| Function                       | Description                          | Code Example        |\n",
        "| ------------------------------ | ------------------------------------ | ------------------- |\n",
        "| `np.sin()`                     | Computes sine element-wise.          | `np.sin(arr)`       |\n",
        "| `np.cos()`                     | Computes cosine element-wise.        | `np.cos(arr)`       |\n",
        "| `np.tan()`                     | Computes tangent element-wise.       | `np.tan(arr)`       |\n",
        "| `np.degrees()`, `np.radians()` | Convert between radians and degrees. | `np.degrees(np.pi)` |\n",
        "\n",
        "- Exponents and Logarithms: Common functions used for operations involving the number *e* and logarithms.\n",
        "\n",
        "| Function     | Description                              | Code Example    |\n",
        "| ------------ | ---------------------------------------- | --------------- |\n",
        "| `np.exp()`   | Calculates ( e^x ) (natural exponent).   | `np.exp(arr)`   |\n",
        "| `np.log()`   | Natural logarithm (( \\ln x ), base *e*). | `np.log(arr)`   |\n",
        "| `np.log2()`  | Logarithm base 2 (( \\log_2 x )).         | `np.log2(arr)`  |\n",
        "| `np.log10()` | Logarithm base 10 (( \\log_{10} x )).     | `np.log10(arr)` |\n",
        "\n",
        "- Rounding Functions: Essential functions for numerical computation.\n",
        "\n",
        "| Function      | Description                                     | Code Example                  |\n",
        "| ------------- | ----------------------------------------------- | ----------------------------- |\n",
        "| `np.around()` | Rounds to a specified number of decimal places. | `np.around(1.45, decimals=1)` |\n",
        "| `np.floor()`  | Rounds down to the nearest integer.             | `np.floor(arr)`               |\n",
        "| `np.ceil()`   | Rounds up to the nearest integer.               | `np.ceil(arr)`                |\n",
        "| `np.trunc()`  | Truncates (removes) the decimal part.           | `np.trunc(arr)`               |\n",
        "\n",
        "- Absolute Value Function\n",
        "\n",
        "| Function                      | Description                                 | Code Example  |\n",
        "| ----------------------------- | ------------------------------------------- | ------------- |\n",
        "| `np.abs()` or `np.absolute()` | Returns the absolute value of each element. | `np.abs(arr)` |\n",
        "\n",
        "- Other functions like: convolve(), sqrt(), square(), maximum(), minimum()...\t(Search GeeksForGeeks for more...)\n"
      ]
    },
    {
      "cell_type": "code",
      "execution_count": 80,
      "metadata": {
        "colab": {
          "base_uri": "https://localhost:8080/"
        },
        "id": "e2bff6b5",
        "outputId": "07565ad9-5654-4ba7-d407-615bcf778995"
      },
      "outputs": [
        {
          "output_type": "stream",
          "name": "stdout",
          "text": [
            "Sine: [-0.59847214 -0.97384763  0.          0.97384763  0.59847214  1.        ]\n",
            "Cosine: [-8.01143616e-01 -2.27202095e-01  1.00000000e+00 -2.27202095e-01\n",
            " -8.01143616e-01  6.12323400e-17]\n",
            "Tangent: [ 7.47022297e-01  4.28626167e+00  0.00000000e+00 -4.28626167e+00\n",
            " -7.47022297e-01  1.63312394e+16]\n",
            "Convert pi/2 radians to degrees: 90.0\n",
            "Convert 90 degrees to radians: 1.5707963267948966\n",
            "Exponential: [ 1.          2.71828183  7.3890561  15.15426224]\n",
            "\n",
            "Natural logarithm _log: [0.         1.         2.         2.30258509 4.60517019]\n",
            "Logarithm base 2 _log: [0.         1.44269504 2.88539008 3.32192809 6.64385619]\n",
            "Logarithm base 10 _log: [0.         0.43429448 0.86858896 1.         2.        ]\n",
            "\n",
            "Around 1.45 to 1 decimal place: 1.4\n",
            "Floor: [-2. -2.  1.  1.]\n",
            "Ceil: [-1. -1.  2.  2.]\n",
            "Truncate: [-1. -1.  1.  1.]\n",
            "\n",
            "Absolute: [5 2 0 2 5]\n",
            "\n"
          ]
        }
      ],
      "source": [
        "arr = np.array([-2.5, -1.8, 0, 1.8, 2.5, np.pi/2])\n",
        "\n",
        "## Trigonometric Functions\n",
        "print(f\"Sine: {np.sin(arr)}\")\n",
        "print(f\"Cosine: {np.cos(arr)}\")\n",
        "print(f\"Tangent: {np.tan(arr)}\")\n",
        "\n",
        "# radians to degrees\n",
        "print(f\"Convert pi/2 radians to degrees: {np.degrees(np.pi/2)}\")\n",
        "print(f\"Convert 90 degrees to radians: {np.radians(90)}\")\n",
        "\n",
        "## Exponents and Logarithms\n",
        "arr_exp = np.array([0, 1, 2, np.e])\n",
        "print(f\"Exponential: {np.exp(arr_exp)}\\n\")\n",
        "\n",
        "arr_log = np.array([1, np.e, np.e**2, 10, 100])\n",
        "print(f\"Natural logarithm _log: {np.log(arr_log)}\")\n",
        "print(f\"Logarithm base 2 _log: {np.log2(arr_log)}\")\n",
        "print(f\"Logarithm base 10 _log: {np.log10(arr_log)}\\n\")\n",
        "\n",
        "## Rounding Functions\n",
        "arr_round = np.array([-1.6, -1.4, 1.4, 1.6])\n",
        "print(f\"Around 1.45 to 1 decimal place: {np.around(1.45, decimals=1)}\")\n",
        "print(f\"Floor: {np.floor(arr_round)}\")\n",
        "print(f\"Ceil: {np.ceil(arr_round)}\")\n",
        "print(f\"Truncate: {np.trunc(arr_round)}\\n\")\n",
        "\n",
        "## Absolute Value Function\n",
        "arr_abs = np.array([-5, -2, 0, 2, 5])\n",
        "print(f\"Absolute: {np.abs(arr_abs)}\\n\")"
      ]
    },
    {
      "cell_type": "markdown",
      "metadata": {
        "id": "y64XwH7h_OUT"
      },
      "source": [
        "## LINEAR ALGEBRA !!!"
      ]
    },
    {
      "cell_type": "code",
      "source": [
        "# have all arithmetic operators above\n",
        "# using .dot() for matrix multiplication\n",
        "arr1 = np.array([[1, 2], [4, 5]])\n",
        "arr2 = np.array([[7, 8], [9, 10]])\n",
        "\n",
        "a = 1 + 2j\n",
        "b = 3 + 4j\n",
        "\n",
        "print(f'Matrix mul: \\n{np.dot(arr1, arr2)}')\n",
        "print(f'Vector mul: {np.dot(a, b)}')"
      ],
      "metadata": {
        "id": "ED42bl-Xs97j",
        "colab": {
          "base_uri": "https://localhost:8080/"
        },
        "outputId": "f1bf3e2f-136d-4955-b08b-de5810d47a69"
      },
      "execution_count": 81,
      "outputs": [
        {
          "output_type": "stream",
          "name": "stdout",
          "text": [
            "Matrix mul: \n",
            "[[25 28]\n",
            " [73 82]]\n",
            "Vector mul: (-5+10j)\n"
          ]
        }
      ]
    },
    {
      "cell_type": "code",
      "source": [
        "# transpose\n",
        "arr1.T"
      ],
      "metadata": {
        "colab": {
          "base_uri": "https://localhost:8080/"
        },
        "id": "Hz_F8qB2O3RZ",
        "outputId": "20c92a54-c4c7-44aa-b93a-43be10c8124b"
      },
      "execution_count": 82,
      "outputs": [
        {
          "output_type": "execute_result",
          "data": {
            "text/plain": [
              "array([[1, 4],\n",
              "       [2, 5]])"
            ]
          },
          "metadata": {},
          "execution_count": 82
        }
      ]
    },
    {
      "cell_type": "code",
      "source": [
        "# inner/dot product: (tích vô hướng)\n",
        "print(f'Inner product: \\n{np.inner(arr1, arr2)}')"
      ],
      "metadata": {
        "colab": {
          "base_uri": "https://localhost:8080/"
        },
        "id": "cpT6D-cLPxz9",
        "outputId": "a0a0aef1-cdb3-42f9-b048-6ff62d7001e4"
      },
      "execution_count": 83,
      "outputs": [
        {
          "output_type": "stream",
          "name": "stdout",
          "text": [
            "Inner product: \n",
            "[[23 29]\n",
            " [68 86]]\n"
          ]
        }
      ]
    },
    {
      "cell_type": "code",
      "source": [
        "# outer product: (chưa tìm thấy dịch thuật, tích ngoài?)\n",
        "print(f'Outer product: \\n{np.outer(arr1, arr2)}')"
      ],
      "metadata": {
        "colab": {
          "base_uri": "https://localhost:8080/"
        },
        "id": "FH4FT7x5SZxU",
        "outputId": "33649032-421d-4dc3-daaf-8a1e422096fa"
      },
      "execution_count": 84,
      "outputs": [
        {
          "output_type": "stream",
          "name": "stdout",
          "text": [
            "Outer product: \n",
            "[[ 7  8  9 10]\n",
            " [14 16 18 20]\n",
            " [28 32 36 40]\n",
            " [35 40 45 50]]\n"
          ]
        }
      ]
    },
    {
      "cell_type": "code",
      "source": [
        "# cross product: (tích có hướng)\n",
        "arr1 = np.array([[1, 2, 3], [4, 5, 6]])\n",
        "arr2 = np.array([[7, 8, 9], [10, 11, 12]])\n",
        "\n",
        "print(f'Cross product: \\n{np.cross(arr1, arr2)}')"
      ],
      "metadata": {
        "colab": {
          "base_uri": "https://localhost:8080/"
        },
        "id": "qokSzAaIS-hf",
        "outputId": "04a5d7d5-fbf4-497d-d013-ed3af187402d"
      },
      "execution_count": 85,
      "outputs": [
        {
          "output_type": "stream",
          "name": "stdout",
          "text": [
            "Cross product: \n",
            "[[-6 12 -6]\n",
            " [-6 12 -6]]\n"
          ]
        }
      ]
    },
    {
      "cell_type": "code",
      "source": [
        "# determiant: (định thức)\n",
        "# use np.linalg.det() to compute straightforward the determinant of a matrix\n",
        "arr1 = np.array([[1, 10, 17],\n",
        "                 [4, 39, 9],\n",
        "                 [7, 8, 11]])\n",
        "print(f'det(arr1) = {np.linalg.det(arr1)}')\n",
        "\n",
        "# beside, there's np.linalg.slogdet() for seperating the sign and logarithm, and np.linalg.lu for LU method."
      ],
      "metadata": {
        "colab": {
          "base_uri": "https://localhost:8080/"
        },
        "id": "Hb9ez6K2Utkq",
        "outputId": "8bf251e5-84e9-4c56-c110-48cdcf8e6dd7"
      },
      "execution_count": 86,
      "outputs": [
        {
          "output_type": "stream",
          "name": "stdout",
          "text": [
            "det(arr1) = -3549.999999999998\n"
          ]
        }
      ]
    },
    {
      "cell_type": "markdown",
      "metadata": {
        "id": "GqAulmoi_Y26"
      },
      "source": [
        "## STATISTICS !!!"
      ]
    },
    {
      "cell_type": "markdown",
      "source": [
        "1. **Normal Distributions**\n",
        "- syntax: `numpy.random.normal(loc=0.0, scale=1.0, size=None)`\n",
        "  * `loc`: specifies the mean of the distribution, where the peak of the bell curve exists.\n",
        "  * `scale`: determines the spread (standard deviation) of the distribution controlling how flat or narrow the graph is.\n",
        "  * `size`: defines the shape of the returned array."
      ],
      "metadata": {
        "id": "DOMpnEiAe4Wo"
      }
    },
    {
      "cell_type": "code",
      "source": [
        "print(f'rand number: {np.random.normal(loc=0, scale=1)}\\n')\n",
        "print(f'rand array: \\n{np.random.normal(size=(2,3))}')"
      ],
      "metadata": {
        "colab": {
          "base_uri": "https://localhost:8080/"
        },
        "id": "_K-HhnZ5eyX9",
        "outputId": "a34aed6e-afae-4f92-a7b4-123a59328df1"
      },
      "execution_count": 135,
      "outputs": [
        {
          "output_type": "stream",
          "name": "stdout",
          "text": [
            "rand number: -1.7053899863758748\n",
            "\n",
            "rand array: \n",
            "[[-0.83147481 -0.52440675 -0.35798438]\n",
            " [ 1.45437883 -1.50923215  0.00952416]]\n"
          ]
        }
      ]
    },
    {
      "cell_type": "code",
      "source": [
        "# Visualize\n",
        "plt.figure(figsize=(8,6))\n",
        "sns.histplot(np.random.normal(size=1000), kde=True, color='pink')\n",
        "plt.title(\"Example for Normal Distribution\")\n",
        "plt.ylabel(\"Density\")\n",
        "plt.xlabel(\"Value\")\n",
        "plt.show()"
      ],
      "metadata": {
        "colab": {
          "base_uri": "https://localhost:8080/",
          "height": 564
        },
        "id": "CuN84Anlg_-j",
        "outputId": "d092456a-ca9a-4892-e9fa-61fa41b1ae13"
      },
      "execution_count": 136,
      "outputs": [
        {
          "output_type": "display_data",
          "data": {
            "text/plain": [
              "<Figure size 800x600 with 1 Axes>"
            ],
            "image/png": "[encoded data removed]"
          },
          "metadata": {}
        }
      ]
    },
    {
      "cell_type": "markdown",
      "source": [
        "2. **Binomial Distribution** (Phân phối nhị thức)\n",
        "- models the number of successes in a fixed number of independent trials where each trial has only two possible outcomes (Ex: success or fail)\n",
        "- syntax: `numpy.random.binomial(n, p, size=None)`\n",
        "  * `n`: the number of trials.\n",
        "  * `p`: the probability of success in each trial\n",
        "  * `size` : the shape of the returned array."
      ],
      "metadata": {
        "id": "ZwUb3souhold"
      }
    },
    {
      "cell_type": "code",
      "source": [
        "print(f'rand number: {np.random.binomial(n = 10, p = 0.7)}\\n')\n",
        "print(f'rand array: \\n{np.random.binomial(n = 10, p = 0.7, size=(2,3))}')"
      ],
      "metadata": {
        "id": "eUtlRQ9JikYj",
        "colab": {
          "base_uri": "https://localhost:8080/"
        },
        "outputId": "4c76ca8b-35b3-4447-db68-6ac14208af0b"
      },
      "execution_count": 137,
      "outputs": [
        {
          "output_type": "stream",
          "name": "stdout",
          "text": [
            "rand number: 4\n",
            "\n",
            "rand array: \n",
            "[[6 7 6]\n",
            " [5 8 8]]\n"
          ]
        }
      ]
    },
    {
      "cell_type": "code",
      "source": [
        "# Visualize\n",
        "plt.figure(figsize=(8,6))\n",
        "sns.histplot(np.random.binomial(n=10, p=0.7, size=1000), kde=True, discrete=True, color='pink')\n",
        "plt.title(\"Example for Binomial Distribution\")\n",
        "\n",
        "x = np.arange(0, 11)\n",
        "plt.ylabel(\"Probality\")\n",
        "plt.xlabel(\"Number of Successes\")\n",
        "plt.show()"
      ],
      "metadata": {
        "colab": {
          "base_uri": "https://localhost:8080/",
          "height": 564
        },
        "id": "oBuYKmU7jsdR",
        "outputId": "03dc6516-18c8-4199-cc76-8d8ca49a4d08"
      },
      "execution_count": 138,
      "outputs": [
        {
          "output_type": "display_data",
          "data": {
            "text/plain": [
              "<Figure size 800x600 with 1 Axes>"
            ],
            "image/png": "[encoded data removed]"
          },
          "metadata": {}
        }
      ]
    },
    {
      "cell_type": "markdown",
      "source": [
        "3. **Poisson DIstribution** (Phân phối Poisson)\n",
        "- model the number of times an event happens within a fixed time or space when we know the average number of occurrences.\n",
        "- used for events that occur independently such as customer arrivals at a store, etc.\n",
        "- syntax: `numpy.random.poisson(lam=1.0, size=None)`\n",
        "  * `lam` : the average number of events (λ or lambda) expected to occur in the interval.\n",
        "  * `size` : the shape of the returned array."
      ],
      "metadata": {
        "id": "x3fIBIFUkr-1"
      }
    },
    {
      "cell_type": "code",
      "source": [
        "print(f'rand number: {np.random.poisson(lam=5)}\\n')\n",
        "print(f'rand array: \\n{np.random.poisson(lam=5, size=(2,3))}')"
      ],
      "metadata": {
        "colab": {
          "base_uri": "https://localhost:8080/"
        },
        "id": "TEyJqPAIlcss",
        "outputId": "c8c5cfca-4e89-4b22-9935-b77256da23c2"
      },
      "execution_count": 139,
      "outputs": [
        {
          "output_type": "stream",
          "name": "stdout",
          "text": [
            "rand number: 6\n",
            "\n",
            "rand array: \n",
            "[[5 7 8]\n",
            " [7 6 3]]\n"
          ]
        }
      ]
    },
    {
      "cell_type": "code",
      "source": [
        "# Visualize\n",
        "plt.figure(figsize=(8,6))\n",
        "sns.displot(np.random.poisson(lam=5, size=1000), kde=False, discrete=True, color='pink')\n",
        "plt.title(\"Example for Poisson Distribution\")\n",
        "plt.xlabel(\"Number of Occurrences\")\n",
        "plt.ylabel(\"Frequency\")\n",
        "plt.show()"
      ],
      "metadata": {
        "colab": {
          "base_uri": "https://localhost:8080/",
          "height": 566
        },
        "id": "rwiDxaDeldRM",
        "outputId": "a1d10aa2-6ca7-4d14-e0fc-8be079f7283a"
      },
      "execution_count": 140,
      "outputs": [
        {
          "output_type": "display_data",
          "data": {
            "text/plain": [
              "<Figure size 800x600 with 0 Axes>"
            ]
          },
          "metadata": {}
        },
        {
          "output_type": "display_data",
          "data": {
            "text/plain": [
              "<Figure size 500x500 with 1 Axes>"
            ],
            "image/png": "[encoded data removed]"
          },
          "metadata": {}
        }
      ]
    },
    {
      "cell_type": "markdown",
      "source": [
        "4. **Uniform Distribution** (Phân phối đồng nhất)\n",
        "- used when all the numbers in a range have the same chance of being picked.\n",
        "- syntax: `numpy.random.uniform(low=0.0, high=1.0, size=None)`\n",
        "  * `low`: the lower bound of the range (inclusive)\n",
        "  * `high`: Tte upper bound of the range (exclusive)"
      ],
      "metadata": {
        "id": "nuZh5LwynNIg"
      }
    },
    {
      "cell_type": "code",
      "source": [
        "print(f'rand number: {np.random.uniform(low=0.0, high=1.0)}\\n')\n",
        "print(f'rand array: \\n{np.random.uniform(low=0.0, high=1.0, size=(2,3))}')"
      ],
      "metadata": {
        "colab": {
          "base_uri": "https://localhost:8080/"
        },
        "id": "X6c_DwvmnMbV",
        "outputId": "e422daae-cbfa-4d83-e5aa-bb0b3b359e51"
      },
      "execution_count": 141,
      "outputs": [
        {
          "output_type": "stream",
          "name": "stdout",
          "text": [
            "rand number: 0.12044805237644074\n",
            "\n",
            "rand array: \n",
            "[[0.36763423 0.78465297 0.59840209]\n",
            " [0.001616   0.80072712 0.13307285]]\n"
          ]
        }
      ]
    },
    {
      "cell_type": "code",
      "source": [
        "# Visualize\n",
        "plt.figure(figsize=(8,6))\n",
        "sns.histplot(np.random.uniform(low=10, high=100, size=1000), kde=False, discrete=True, color='pink')\n",
        "plt.title(\"Example for Uniform Distribution\")\n",
        "plt.xlabel(\"Value\")\n",
        "plt.ylabel(\"Frequency\")\n",
        "plt.show()"
      ],
      "metadata": {
        "colab": {
          "base_uri": "https://localhost:8080/",
          "height": 564
        },
        "id": "H6Xq-3TcomKK",
        "outputId": "fcc55d28-61f6-4b3b-eca5-14cd22435512"
      },
      "execution_count": 142,
      "outputs": [
        {
          "output_type": "display_data",
          "data": {
            "text/plain": [
              "<Figure size 800x600 with 1 Axes>"
            ],
            "image/png": "[encoded data removed]"
          },
          "metadata": {}
        }
      ]
    },
    {
      "cell_type": "markdown",
      "source": [
        "5. **Exponetial Distribution** (Phân phối mũ?)\n",
        "- describe the time between events in a Poisson process where events occur continuously and independently at a constant average rate.\n",
        "- syntax: `numpy.random.exponential(scale=1.0, size=None)`\n",
        "  * `scale`: the inverse of the rate parameter (β=1/λ) which determines the spread of the distribution.\n",
        "  * `size`: like all distributions above."
      ],
      "metadata": {
        "id": "AoK2ArVSp2xV"
      }
    },
    {
      "cell_type": "code",
      "source": [
        "print(f'rand number: {np.random.exponential(scale=0.7)}\\n')\n",
        "print(f'rand array: \\n{np.random.exponential(scale=0.7, size=(2,3))}')"
      ],
      "metadata": {
        "colab": {
          "base_uri": "https://localhost:8080/"
        },
        "id": "2zuvP72Tp3iT",
        "outputId": "f3c6339f-1a55-4acb-a65e-c9d5bb1a6475"
      },
      "execution_count": 143,
      "outputs": [
        {
          "output_type": "stream",
          "name": "stdout",
          "text": [
            "rand number: 0.1554869086320398\n",
            "\n",
            "rand array: \n",
            "[[0.60781372 0.74776522 1.41183197]\n",
            " [0.13916543 0.75169306 0.13036636]]\n"
          ]
        }
      ]
    },
    {
      "cell_type": "code",
      "source": [
        "# Visualize\n",
        "plt.figure(figsize=(8,6))\n",
        "sns.histplot(np.random.exponential(scale=7, size=1000), kde=True, discrete=True, color='pink', bins=30)\n",
        "plt.title(\"Example for Exponential Distribution\")\n",
        "plt.xlabel(\"Value\")\n",
        "plt.ylabel(\"Frequency\")\n",
        "plt.show()"
      ],
      "metadata": {
        "colab": {
          "base_uri": "https://localhost:8080/",
          "height": 564
        },
        "id": "syU8Uzjap1t3",
        "outputId": "ce8dfc3e-feab-46b5-88a5-53ff468bc3b6"
      },
      "execution_count": 144,
      "outputs": [
        {
          "output_type": "display_data",
          "data": {
            "text/plain": [
              "<Figure size 800x600 with 1 Axes>"
            ],
            "image/png": "[encoded data removed]"
          },
          "metadata": {}
        }
      ]
    },
    {
      "cell_type": "markdown",
      "source": [
        "6. **Chi-Square Distribution** (cái này dùng cho Classification Tree)\n",
        "- when we add up the squares of independent random numbers that follow a standard normal distribution, it's used in hypothesis testing to check whether observed data fits a particular distribution or not.\n",
        "- syntax: `numpy.random.chisquare(df, size=None)`\n",
        "  * `df`: degrees of freedom (denoted by k) which affects the shape of the distribution."
      ],
      "metadata": {
        "id": "WbTSH7CquzIR"
      }
    },
    {
      "cell_type": "code",
      "source": [
        "print(f'rand number: {np.random.chisquare(df=0.7)}\\n')\n",
        "print(f'rand array: \\n{np.random.chisquare(df=0.7, size=(2,3))}')"
      ],
      "metadata": {
        "colab": {
          "base_uri": "https://localhost:8080/"
        },
        "id": "DPlv0RWquxsC",
        "outputId": "7043635e-67cc-4c4a-9e0f-2ae8f3edf34e"
      },
      "execution_count": 145,
      "outputs": [
        {
          "output_type": "stream",
          "name": "stdout",
          "text": [
            "rand number: 0.05008052839922088\n",
            "\n",
            "rand array: \n",
            "[[0.06615998 0.03641595 2.11264859]\n",
            " [0.72158394 0.53637391 0.00324769]]\n"
          ]
        }
      ]
    },
    {
      "cell_type": "code",
      "source": [
        "# Visualize\n",
        "plt.figure(figsize=(8,6))\n",
        "sns.displot(np.random.chisquare(df=7, size=1000), kind='kde', color='pink')\n",
        "plt.title(\"Example for Chi-Square Distribution\")\n",
        "plt.xlabel(\"Value\")\n",
        "plt.ylabel(\"Density\")\n",
        "plt.show()"
      ],
      "metadata": {
        "colab": {
          "base_uri": "https://localhost:8080/",
          "height": 563
        },
        "id": "KcooUrEDznGI",
        "outputId": "85adbde2-0544-4a5a-fbe1-cf6ba9d648e8"
      },
      "execution_count": 151,
      "outputs": [
        {
          "output_type": "display_data",
          "data": {
            "text/plain": [
              "<Figure size 800x600 with 0 Axes>"
            ]
          },
          "metadata": {}
        },
        {
          "output_type": "display_data",
          "data": {
            "text/plain": [
              "<Figure size 500x500 with 1 Axes>"
            ],
            "image/png": "[encoded data removed]"
          },
          "metadata": {}
        }
      ]
    },
    {
      "cell_type": "markdown",
      "metadata": {
        "id": "bdxEQ4kMKspL"
      },
      "source": [
        "Ex1. Given an integer matrix of NxM, set negative values in the matrix to 0"
      ]
    },
    {
      "cell_type": "code",
      "source": [
        "arr = np.array([[1, -2, 3], [-4, 5, -6], [7, -8, 9]])\n",
        "print(f'Original matrix:\\n{arr}')\n",
        "\n",
        "arr[arr < 0] = 0\n",
        "print(f'Result: \\n{arr}')"
      ],
      "metadata": {
        "colab": {
          "base_uri": "https://localhost:8080/"
        },
        "id": "gsUtnpRB04lY",
        "outputId": "2fe01109-8e07-4d3b-9119-1c728af5156d"
      },
      "execution_count": 153,
      "outputs": [
        {
          "output_type": "stream",
          "name": "stdout",
          "text": [
            "Original matrix:\n",
            "[[ 1 -2  3]\n",
            " [-4  5 -6]\n",
            " [ 7 -8  9]]\n",
            "Result: \n",
            "[[1 0 3]\n",
            " [0 5 0]\n",
            " [7 0 9]]\n"
          ]
        }
      ]
    }
  ],
  "metadata": {
    "colab": {
      "provenance": []
    },
    "kernelspec": {
      "display_name": "Python 3",
      "name": "python3"
    },
    "language_info": {
      "name": "python"
    }
  },
  "nbformat": 4,
  "nbformat_minor": 0
}